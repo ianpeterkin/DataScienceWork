{
  "nbformat": 4,
  "nbformat_minor": 0,
  "metadata": {
    "colab": {
      "name": "A Pythonic DCF",
      "provenance": [],
      "collapsed_sections": [],
      "authorship_tag": "ABX9TyM3gmJF5BGfAdx+aChzY2wZ",
      "include_colab_link": true
    },
    "kernelspec": {
      "name": "python3",
      "display_name": "Python 3"
    }
  },
  "cells": [
    {
      "cell_type": "markdown",
      "metadata": {
        "id": "view-in-github",
        "colab_type": "text"
      },
      "source": [
        "<a href=\"https://colab.research.google.com/github/ianpeterkin/DataScienceWork/blob/master/A_Pythonic_DCF.ipynb\" target=\"_parent\"><img src=\"https://colab.research.google.com/assets/colab-badge.svg\" alt=\"Open In Colab\"/></a>"
      ]
    },
    {
      "cell_type": "code",
      "metadata": {
        "id": "UZjbFYrQtVTO",
        "colab_type": "code",
        "colab": {}
      },
      "source": [
        "import pandas as pd\n",
        "import numpy as np\n",
        "from IPython.display import Image\n",
        "from IPython.display import Latex\n",
        "from itertools import product\n",
        "import plotly\n",
        "import plotly.express as px"
      ],
      "execution_count": 0,
      "outputs": []
    },
    {
      "cell_type": "markdown",
      "metadata": {
        "id": "CNmSdwLLznwP",
        "colab_type": "text"
      },
      "source": [
        "# A Pythonic Approach to the DCF\n",
        "By Ian Peterkin"
      ]
    },
    {
      "cell_type": "markdown",
      "metadata": {
        "id": "34-Mr4sruBI9",
        "colab_type": "text"
      },
      "source": [
        "# Introduction\n",
        "The cornerstone of corporate finance is valuation. From investment bankers to high frequency traders, everyone in the financial industry will at some point find themselves in a position where they need to value an asset, whether that be a portfolio of properties or a large public company.\n",
        "\n",
        "Though the financial industry has historically been an early adopeter of new technologies, the world of valuation has remained largely untouched since the advent of Microsoft Excel in the nineties. Generally an analyst will use a combination of Excel and a Bloomberg Terminal (or some other financial data provider, i.e. CapIQ, etc.), coupled with the advice of management and senior bankers to put together a limited view of a company. While this is the industry standard, this method often falls flat in regards to painting a picture of the firm that goes beyond just the raw numbers.\n",
        "\n",
        "This article sets out to take a novel approach at visual valuation through the lens of the Jupyter notebook, an open source python programming platform. While initial valuation should still be done through Excel, wrapping everything up in a Python notebook is a great way to convey the meaning and thought behind your analysis (and also a much easier, condensed way to view a final valuation). In my experience, clients, especially those who may not be as knowledgeable about valuation, are thrilled to have a valuation that reads like a newspaper article so that they don't get lost in the abyss of a complicated excel sheet. \n",
        "\n",
        "Through the use of python, the savvy programmer can create valuation overviews that are not just accurate, but visual and dynamic as well."
      ]
    },
    {
      "cell_type": "markdown",
      "metadata": {
        "id": "gB-xQpQQwzNp",
        "colab_type": "text"
      },
      "source": [
        "While this article will provide an introductory overview of applying some general pythonic methods to the task of valuation, it will NOT place emphasis on the valuation methods themselves, and instead assumes a basic knowledge of general corporate finance."
      ]
    },
    {
      "cell_type": "markdown",
      "metadata": {
        "id": "IcfIdczjydKm",
        "colab_type": "text"
      },
      "source": [
        "I find that the best way to teach is through example, so in this article we will work through putting together a simple discounted cash flow analysis (DCF) of a made up tech firm, TechCo, stopping along the way to provide insight into the programming behind the valuation when necessary."
      ]
    },
    {
      "cell_type": "markdown",
      "metadata": {
        "id": "Ri287ueb0Yrp",
        "colab_type": "text"
      },
      "source": [
        "#Getting Started\n",
        "At its core, the DCF consists of five steps:\n",
        "\n",
        "\n",
        "*   Determine Drivers\n",
        "*   Project Free Cash Flows\n",
        "*   Calculate the Weighted Average Cost of Capital\n",
        "*   Determine a Terminal Value\n",
        "*   Calculate Present Value and Perform Sensitivity Analysis\n",
        "\n",
        "In the pythonic representation of a DCF that we will set up, we will be more concerned with the last three steps, as the first two are easily done in excel, and reinventing the wheel in regards to drivers and projecting cash flows is unescessary convolusion.\n",
        "\n",
        "Now, a little background on our Company, TechCo:\n",
        "TechCo is a SaaS Company founded 10 years ago. After exhibiting promising growth over its initial ten year stint, management has decided the time to sell has come. As our MD's cousin's roommate's boyfriend played golf once in the 80's with the CEO, our bank won the contract to run the sale. Our task as an analyst is to run a multitude of valuations, including the DCF. While we did most of the analysis in Excel, the CEO isn't very privvy to the intricaies of corporate finance, and instead wants to see an easy to interpret walkthrough of our valuation. Being the go-getter analyst you are, you decide to put together a Jupyter notebook to accompany your excel wizardry. Let's get started!\n"
      ]
    },
    {
      "cell_type": "markdown",
      "metadata": {
        "id": "07hyS78u1jbB",
        "colab_type": "text"
      },
      "source": [
        "#Determining the Drivers\n",
        "This step is largely subjective, and depending on the situation, may also have the most weight on your valuation. In a standard DCF analysis the concern centers around projecting out Free Cash Flows, so credible assumptions as to sales drivers and certain non-cash addbacks will weigh heavily on your end valuation. While a large list of table handling packages exist for python, its ability to display them with the formatting that the banking industry has come to love falls short, so I generally prefer to just upload the driver section of my valuations as an image for the reader to skim over (again, they presumably have access to the accompanying excel sheet, so this isn't too much of a worry). Generally, the assumptions for the model drivers come from management's input anyhow, and they remain overwhelmingly static once they have been agreed on. Let's take a look at our TechCo. example for some guidance..."
      ]
    },
    {
      "cell_type": "markdown",
      "metadata": {
        "id": "HSHZz0C7-wDp",
        "colab_type": "text"
      },
      "source": [
        "TechCo makes most of its money from three segments:\n",
        "\n",
        "1.   Subscriptions\n",
        "2.   Perpetual Licences, and\n",
        "3.   Other\n",
        "\n",
        "These are pretty typical categories for a SaaS company's revenue breakdown. Luckily, python has a very simple Image() function to display snapshots of our excel sheet. Let's see how we projected revenues in our Excel analysis:\n",
        "\n"
      ]
    },
    {
      "cell_type": "code",
      "metadata": {
        "id": "ux8IuQb6BoHk",
        "colab_type": "code",
        "outputId": "8453d7d0-4092-40dd-b355-2189527717be",
        "colab": {
          "base_uri": "https://localhost:8080/",
          "height": 417
        }
      },
      "source": [
        "Image('revenue drivers.PNG', width=800, height=400)"
      ],
      "execution_count": 26,
      "outputs": [
        {
          "output_type": "execute_result",
          "data": {
            "image/png": "[encoded data removed]",
            "text/plain": [
              "<IPython.core.display.Image object>"
            ]
          },
          "metadata": {
            "tags": [],
            "image/png": {
              "width": 800,
              "height": 400
            }
          },
          "execution_count": 26
        }
      ]
    },
    {
      "cell_type": "markdown",
      "metadata": {
        "id": "T4d-uDdFCQYB",
        "colab_type": "text"
      },
      "source": [
        "O.K, pretty standard. As per management's guidance, we project subscription revenue in depth, factoring in the difference between billings and revenue, as well as renewals and price increases. If you'd like a more in depth explanation into why subscriptions were forecasted like this, take a look at the Financial  Modelling course from [BIWS](https://breakingintowallstreet.com/biws/homepage/), which has a litany of helpful case studies on different industries, and which heavily influenced the case in this article. Additionally, perpetual licences and other revenue were forecast as a simple growth rate. While this isn't ideal, we'll blame it on management and move on.\n",
        "\n",
        "To get total revenues, we just add the three revenue totals together and we can start building out our bridge to FCFs."
      ]
    },
    {
      "cell_type": "markdown",
      "metadata": {
        "id": "uZ9eB4bVICQE",
        "colab_type": "text"
      },
      "source": [
        "#Project Free Cash Flows\n",
        "\n",
        "\n",
        "As any good student of finance knows, the bridge to FCF looks something like this:"
      ]
    },
    {
      "cell_type": "code",
      "metadata": {
        "id": "r9CHzwz9EO3F",
        "colab_type": "code",
        "outputId": "fbd4b9f1-2bcb-4ac2-96e1-1f1cb383ccd1",
        "colab": {
          "base_uri": "https://localhost:8080/",
          "height": 316
        }
      },
      "source": [
        "Image('fcf bridge.PNG')"
      ],
      "execution_count": 27,
      "outputs": [
        {
          "output_type": "execute_result",
          "data": {
            "image/png": "[encoded data removed]",
            "text/plain": [
              "<IPython.core.display.Image object>"
            ]
          },
          "metadata": {
            "tags": []
          },
          "execution_count": 27
        }
      ]
    },
    {
      "cell_type": "markdown",
      "metadata": {
        "id": "cyvwdocXFUj0",
        "colab_type": "text"
      },
      "source": [
        "Essentially, we are going through the income statement to calculate our taxes on the business' operations, and then adding back certain non cash expenses to find the business' core operating cash flow, which we will discount to the present to find a valuation; hence the name: Discounted Cash Flow analysis.\n",
        "\n",
        "Clearly, we also need to do some expense projections, which management has so graciously provided. From our excel sheet:"
      ]
    },
    {
      "cell_type": "code",
      "metadata": {
        "id": "PI57AGRRHlKX",
        "colab_type": "code",
        "outputId": "8ba7947d-d22a-4ba1-90f1-f05f34818ccf",
        "colab": {
          "base_uri": "https://localhost:8080/",
          "height": 337
        }
      },
      "source": [
        "Image('expense drivers.PNG', width=1000, height=300)"
      ],
      "execution_count": 28,
      "outputs": [
        {
          "output_type": "execute_result",
          "data": {
            "image/png": "[encoded data removed]",
            "text/plain": [
              "<IPython.core.display.Image object>"
            ]
          },
          "metadata": {
            "tags": [],
            "image/png": {
              "width": 1000,
              "height": 300
            }
          },
          "execution_count": 28
        }
      ]
    },
    {
      "cell_type": "markdown",
      "metadata": {
        "id": "ZlAwhZ3XH2xP",
        "colab_type": "text"
      },
      "source": [
        "And now, we pretty much have all we need to project out to our FCF. For the sake of saving space, I'll assume you understand how to get to EBIT from revenue. Again, from Excel:"
      ]
    },
    {
      "cell_type": "code",
      "metadata": {
        "id": "EeMuHdcBKrFs",
        "colab_type": "code",
        "outputId": "1bb7175c-e70f-4163-b3e7-b546ef565962",
        "colab": {
          "base_uri": "https://localhost:8080/",
          "height": 337
        }
      },
      "source": [
        "Image('FCF Projections.PNG',width=1000, height=300)"
      ],
      "execution_count": 29,
      "outputs": [
        {
          "output_type": "execute_result",
          "data": {
            "image/png": "[encoded data removed]",
            "text/plain": [
              "<IPython.core.display.Image object>"
            ]
          },
          "metadata": {
            "tags": [],
            "image/png": {
              "width": 1000,
              "height": 300
            }
          },
          "execution_count": 29
        }
      ]
    },
    {
      "cell_type": "markdown",
      "metadata": {
        "id": "9X2gJ85bPdFV",
        "colab_type": "text"
      },
      "source": [
        "And there we have it, FCF prjections. A little note on taxes: I assumed a decreasing rate from 19% to 17% in perpetuity as that was management's guidance going forward. Clearly, the company generated some tax NOLs for the period; we will avoid their effects for this simple demonstration.\n",
        "\n",
        "Now that we have our projections, we can really start using the power of the Jupyter notebook. On to step 3!"
      ]
    },
    {
      "cell_type": "markdown",
      "metadata": {
        "id": "qCjv9viVQL3c",
        "colab_type": "text"
      },
      "source": [
        "#Calculate Weighted Average Cost of Capital (WACC)\n",
        "\n",
        "Ah yes, the WACC. A seemingly simple idea that has perplexed analysts for years. Here's the formula as a refresher:\n",
        "\n",
        "\\begin{aligned}\n",
        "\tWACC =\n",
        "\t(r_{d}\\times(1+t)\\times\\frac{D}{D+E})\n",
        "\t+\n",
        "\t(r_{e}\\times\\frac{E}{D+E})\n",
        "\\end{aligned}"
      ]
    },
    {
      "cell_type": "markdown",
      "metadata": {
        "id": "Y06EVeeOJ7Hc",
        "colab_type": "text"
      },
      "source": [
        "Clearly, we need some way to figure out the Company's ideal capital structure in the absence of guidance from management. \n",
        "\n",
        "Generally this is the most time consuming part of the DCF process, involving spreading comps and trying to come to a proper beta calculation. In the interest of saving time, however, our pythonic analysis will use some simple data science to come up with an estimate for WACC and the optimal capital structure using some starting data that we grab from bloomberg. This process serves as a sanity check on your Excel-calculated WACC, and also provides a fun exercise in applied data science."
      ]
    },
    {
      "cell_type": "markdown",
      "metadata": {
        "id": "pqn-BihmQiY0",
        "colab_type": "text"
      },
      "source": [
        "As a starting point, Bloomberg is giving me a WACC of around 8.6% for late stage mid cap tech companies. Accounting for a size premium, let's just say our WACC will probably be around a range of 6% to 10%, give or take. Now let's run some code:"
      ]
    },
    {
      "cell_type": "code",
      "metadata": {
        "id": "6TZV-TohcHZ2",
        "colab_type": "code",
        "colab": {}
      },
      "source": [
        "#Let's create a table of values representing different mixes of debt and equity.\n",
        "#Remeber, the shares of debt and equity must add to one (assuming no semi-complex instruments, such as preferred)\n",
        "#As the share of equity is essentially just (1-share of debt), we only need to create a range for the share of debt\n",
        "#I'm seeing a pretty low average debt share on Bloomberg, which makes sense for tech companies, which generally grow through multiple rounds of equity infusions\n",
        "#Because of this, let's use a range of .1 to .5\n",
        "#For this, we will employ the pandas package to make a series of 25 evenly spaced values in the range:\n",
        "debt_share = pd.Series(np.linspace(0.1,.5,25))"
      ],
      "execution_count": 0,
      "outputs": []
    },
    {
      "cell_type": "markdown",
      "metadata": {
        "id": "Jpx_2aXnh1w7",
        "colab_type": "text"
      },
      "source": [
        "Now we have a series with a mix of different possible debt and equity shares.\n",
        "These mixes will be useful when we start solving for the minimum wacc.\n",
        "Now we need to assume some different costs of equity and debt. We'll use Bloomberg as a starting point.\n",
        "\n",
        "When I check Cost of equity and Debt for similar companies, I get ranges of +/- 8% for equity and +/- 3% for debt, with quite a high variance.\n",
        "This high varaince only reinforces the need for such large ranges.\n",
        "Let's make some series reflecting these ranges."
      ]
    },
    {
      "cell_type": "code",
      "metadata": {
        "id": "05hpDTcLiCjP",
        "colab_type": "code",
        "colab": {}
      },
      "source": [
        "d_cost = pd.Series(np.linspace(.02,.06,5))\n",
        "e_cost = pd.Series(np.linspace(.06,.10,5))"
      ],
      "execution_count": 0,
      "outputs": []
    },
    {
      "cell_type": "markdown",
      "metadata": {
        "id": "6u9Dn18qhI_Y",
        "colab_type": "text"
      },
      "source": [
        "Yes, we can argue all day on what ranges are acceptable for cost of debt, cost of equity, etc., and indeed bankers often DO argue all day over these things. We are not concerned with that! Remeber, we (presumably) did all of this analysis in Excel already, and came up with our proper ranges. We are using this process as a sanity check of our numbers!"
      ]
    },
    {
      "cell_type": "markdown",
      "metadata": {
        "id": "yjET_H7qk1wV",
        "colab_type": "text"
      },
      "source": [
        "Now, for each of the debt/equity share combinations, we want to see how each cost of debt and equity combination will affect the WACC. This gives us a lot of combinations. Luckily the Pandas package is very powerful in regards to linear algebra, and we can easily make a dataframe representing all of the combinations:"
      ]
    },
    {
      "cell_type": "code",
      "metadata": {
        "id": "cFm7SCTnjHFA",
        "colab_type": "code",
        "outputId": "477cff44-4c75-46c8-96d0-10d8d2cd4b3f",
        "colab": {
          "base_uri": "https://localhost:8080/",
          "height": 251
        }
      },
      "source": [
        "combos = pd.DataFrame(list(product(d_cost, e_cost, debt_share)), columns=['cod', 'coe', 'debtshare'])\n",
        "print(combos)"
      ],
      "execution_count": 18,
      "outputs": [
        {
          "output_type": "stream",
          "text": [
            "      cod   coe  debtshare\n",
            "0    0.02  0.06   0.100000\n",
            "1    0.02  0.06   0.116667\n",
            "2    0.02  0.06   0.133333\n",
            "3    0.02  0.06   0.150000\n",
            "4    0.02  0.06   0.166667\n",
            "..    ...   ...        ...\n",
            "620  0.06  0.10   0.433333\n",
            "621  0.06  0.10   0.450000\n",
            "622  0.06  0.10   0.466667\n",
            "623  0.06  0.10   0.483333\n",
            "624  0.06  0.10   0.500000\n",
            "\n",
            "[625 rows x 3 columns]\n"
          ],
          "name": "stdout"
        }
      ]
    },
    {
      "cell_type": "markdown",
      "metadata": {
        "id": "Vk0jqN42pKTn",
        "colab_type": "text"
      },
      "source": [
        "Aaaaaaaaaand we get 625 possible combinations. If we had to do this by hand, it would be a lot of math. However, we're using pandas, and can simply add another column using a function that solves for each WACC:"
      ]
    },
    {
      "cell_type": "code",
      "metadata": {
        "id": "WqHAb3T2pe2g",
        "colab_type": "code",
        "outputId": "6c14f510-2e4d-48f5-b832-58a4b53aac0c",
        "colab": {
          "base_uri": "https://localhost:8080/",
          "height": 404
        }
      },
      "source": [
        "#Set our effective tax rate, as per management's guidance\n",
        "tax_rate = .17\n",
        "\n",
        "#And calculate using lambda syntax\n",
        "combos['WACC'] = combos.apply(lambda row: (row.cod*(1+tax_rate)*(row.debtshare))+(row.coe*(1-row.debtshare)), axis = 1) \n",
        "\n",
        "#now lets get the WACCs in ascending order\n",
        "combos.sort_values(by = 'WACC')"
      ],
      "execution_count": 19,
      "outputs": [
        {
          "output_type": "execute_result",
          "data": {
            "text/html": [
              "<div>\n",
              "<style scoped>\n",
              "    .dataframe tbody tr th:only-of-type {\n",
              "        vertical-align: middle;\n",
              "    }\n",
              "\n",
              "    .dataframe tbody tr th {\n",
              "        vertical-align: top;\n",
              "    }\n",
              "\n",
              "    .dataframe thead th {\n",
              "        text-align: right;\n",
              "    }\n",
              "</style>\n",
              "<table border=\"1\" class=\"dataframe\">\n",
              "  <thead>\n",
              "    <tr style=\"text-align: right;\">\n",
              "      <th></th>\n",
              "      <th>cod</th>\n",
              "      <th>coe</th>\n",
              "      <th>debtshare</th>\n",
              "      <th>WACC</th>\n",
              "    </tr>\n",
              "  </thead>\n",
              "  <tbody>\n",
              "    <tr>\n",
              "      <th>24</th>\n",
              "      <td>0.02</td>\n",
              "      <td>0.06</td>\n",
              "      <td>0.500000</td>\n",
              "      <td>0.041700</td>\n",
              "    </tr>\n",
              "    <tr>\n",
              "      <th>23</th>\n",
              "      <td>0.02</td>\n",
              "      <td>0.06</td>\n",
              "      <td>0.483333</td>\n",
              "      <td>0.042310</td>\n",
              "    </tr>\n",
              "    <tr>\n",
              "      <th>22</th>\n",
              "      <td>0.02</td>\n",
              "      <td>0.06</td>\n",
              "      <td>0.466667</td>\n",
              "      <td>0.042920</td>\n",
              "    </tr>\n",
              "    <tr>\n",
              "      <th>21</th>\n",
              "      <td>0.02</td>\n",
              "      <td>0.06</td>\n",
              "      <td>0.450000</td>\n",
              "      <td>0.043530</td>\n",
              "    </tr>\n",
              "    <tr>\n",
              "      <th>20</th>\n",
              "      <td>0.02</td>\n",
              "      <td>0.06</td>\n",
              "      <td>0.433333</td>\n",
              "      <td>0.044140</td>\n",
              "    </tr>\n",
              "    <tr>\n",
              "      <th>...</th>\n",
              "      <td>...</td>\n",
              "      <td>...</td>\n",
              "      <td>...</td>\n",
              "      <td>...</td>\n",
              "    </tr>\n",
              "    <tr>\n",
              "      <th>603</th>\n",
              "      <td>0.06</td>\n",
              "      <td>0.10</td>\n",
              "      <td>0.150000</td>\n",
              "      <td>0.095530</td>\n",
              "    </tr>\n",
              "    <tr>\n",
              "      <th>475</th>\n",
              "      <td>0.05</td>\n",
              "      <td>0.10</td>\n",
              "      <td>0.100000</td>\n",
              "      <td>0.095850</td>\n",
              "    </tr>\n",
              "    <tr>\n",
              "      <th>602</th>\n",
              "      <td>0.06</td>\n",
              "      <td>0.10</td>\n",
              "      <td>0.133333</td>\n",
              "      <td>0.096027</td>\n",
              "    </tr>\n",
              "    <tr>\n",
              "      <th>601</th>\n",
              "      <td>0.06</td>\n",
              "      <td>0.10</td>\n",
              "      <td>0.116667</td>\n",
              "      <td>0.096523</td>\n",
              "    </tr>\n",
              "    <tr>\n",
              "      <th>600</th>\n",
              "      <td>0.06</td>\n",
              "      <td>0.10</td>\n",
              "      <td>0.100000</td>\n",
              "      <td>0.097020</td>\n",
              "    </tr>\n",
              "  </tbody>\n",
              "</table>\n",
              "<p>625 rows × 4 columns</p>\n",
              "</div>"
            ],
            "text/plain": [
              "      cod   coe  debtshare      WACC\n",
              "24   0.02  0.06   0.500000  0.041700\n",
              "23   0.02  0.06   0.483333  0.042310\n",
              "22   0.02  0.06   0.466667  0.042920\n",
              "21   0.02  0.06   0.450000  0.043530\n",
              "20   0.02  0.06   0.433333  0.044140\n",
              "..    ...   ...        ...       ...\n",
              "603  0.06  0.10   0.150000  0.095530\n",
              "475  0.05  0.10   0.100000  0.095850\n",
              "602  0.06  0.10   0.133333  0.096027\n",
              "601  0.06  0.10   0.116667  0.096523\n",
              "600  0.06  0.10   0.100000  0.097020\n",
              "\n",
              "[625 rows x 4 columns]"
            ]
          },
          "metadata": {
            "tags": []
          },
          "execution_count": 19
        }
      ]
    },
    {
      "cell_type": "markdown",
      "metadata": {
        "id": "xShlXterUZMF",
        "colab_type": "text"
      },
      "source": [
        "Now, let's limit our sample space to the generally acceptable range of COE and COD values:"
      ]
    },
    {
      "cell_type": "code",
      "metadata": {
        "id": "GMhWpA8lV2FT",
        "colab_type": "code",
        "outputId": "4b082886-510a-414f-cd74-c0b516275976",
        "colab": {
          "base_uri": "https://localhost:8080/",
          "height": 404
        }
      },
      "source": [
        "limited_combos = combos[(combos['WACC'] > .06) & (combos['WACC'] < .1)].sort_values(by = 'WACC')\n",
        "limited_combos"
      ],
      "execution_count": 20,
      "outputs": [
        {
          "output_type": "execute_result",
          "data": {
            "text/html": [
              "<div>\n",
              "<style scoped>\n",
              "    .dataframe tbody tr th:only-of-type {\n",
              "        vertical-align: middle;\n",
              "    }\n",
              "\n",
              "    .dataframe tbody tr th {\n",
              "        vertical-align: top;\n",
              "    }\n",
              "\n",
              "    .dataframe thead th {\n",
              "        text-align: right;\n",
              "    }\n",
              "</style>\n",
              "<table border=\"1\" class=\"dataframe\">\n",
              "  <thead>\n",
              "    <tr style=\"text-align: right;\">\n",
              "      <th></th>\n",
              "      <th>cod</th>\n",
              "      <th>coe</th>\n",
              "      <th>debtshare</th>\n",
              "      <th>WACC</th>\n",
              "    </tr>\n",
              "  </thead>\n",
              "  <tbody>\n",
              "    <tr>\n",
              "      <th>96</th>\n",
              "      <td>0.02</td>\n",
              "      <td>0.09</td>\n",
              "      <td>0.450000</td>\n",
              "      <td>0.060030</td>\n",
              "    </tr>\n",
              "    <tr>\n",
              "      <th>161</th>\n",
              "      <td>0.03</td>\n",
              "      <td>0.07</td>\n",
              "      <td>0.283333</td>\n",
              "      <td>0.060112</td>\n",
              "    </tr>\n",
              "    <tr>\n",
              "      <th>65</th>\n",
              "      <td>0.02</td>\n",
              "      <td>0.08</td>\n",
              "      <td>0.350000</td>\n",
              "      <td>0.060190</td>\n",
              "    </tr>\n",
              "    <tr>\n",
              "      <th>294</th>\n",
              "      <td>0.04</td>\n",
              "      <td>0.07</td>\n",
              "      <td>0.416667</td>\n",
              "      <td>0.060333</td>\n",
              "    </tr>\n",
              "    <tr>\n",
              "      <th>195</th>\n",
              "      <td>0.03</td>\n",
              "      <td>0.08</td>\n",
              "      <td>0.433333</td>\n",
              "      <td>0.060543</td>\n",
              "    </tr>\n",
              "    <tr>\n",
              "      <th>...</th>\n",
              "      <td>...</td>\n",
              "      <td>...</td>\n",
              "      <td>...</td>\n",
              "      <td>...</td>\n",
              "    </tr>\n",
              "    <tr>\n",
              "      <th>603</th>\n",
              "      <td>0.06</td>\n",
              "      <td>0.10</td>\n",
              "      <td>0.150000</td>\n",
              "      <td>0.095530</td>\n",
              "    </tr>\n",
              "    <tr>\n",
              "      <th>475</th>\n",
              "      <td>0.05</td>\n",
              "      <td>0.10</td>\n",
              "      <td>0.100000</td>\n",
              "      <td>0.095850</td>\n",
              "    </tr>\n",
              "    <tr>\n",
              "      <th>602</th>\n",
              "      <td>0.06</td>\n",
              "      <td>0.10</td>\n",
              "      <td>0.133333</td>\n",
              "      <td>0.096027</td>\n",
              "    </tr>\n",
              "    <tr>\n",
              "      <th>601</th>\n",
              "      <td>0.06</td>\n",
              "      <td>0.10</td>\n",
              "      <td>0.116667</td>\n",
              "      <td>0.096523</td>\n",
              "    </tr>\n",
              "    <tr>\n",
              "      <th>600</th>\n",
              "      <td>0.06</td>\n",
              "      <td>0.10</td>\n",
              "      <td>0.100000</td>\n",
              "      <td>0.097020</td>\n",
              "    </tr>\n",
              "  </tbody>\n",
              "</table>\n",
              "<p>473 rows × 4 columns</p>\n",
              "</div>"
            ],
            "text/plain": [
              "      cod   coe  debtshare      WACC\n",
              "96   0.02  0.09   0.450000  0.060030\n",
              "161  0.03  0.07   0.283333  0.060112\n",
              "65   0.02  0.08   0.350000  0.060190\n",
              "294  0.04  0.07   0.416667  0.060333\n",
              "195  0.03  0.08   0.433333  0.060543\n",
              "..    ...   ...        ...       ...\n",
              "603  0.06  0.10   0.150000  0.095530\n",
              "475  0.05  0.10   0.100000  0.095850\n",
              "602  0.06  0.10   0.133333  0.096027\n",
              "601  0.06  0.10   0.116667  0.096523\n",
              "600  0.06  0.10   0.100000  0.097020\n",
              "\n",
              "[473 rows x 4 columns]"
            ]
          },
          "metadata": {
            "tags": []
          },
          "execution_count": 20
        }
      ]
    },
    {
      "cell_type": "markdown",
      "metadata": {
        "id": "hsiKuCwCWtOR",
        "colab_type": "text"
      },
      "source": [
        "And now we can see all of the parameters that go into different WACCs! So, if management wants guidance on how to achieve a certain WACC, you can offer some combinations of variable that will provide that WACC, and work towards achieving them in your financial models, whether that be through targeting certain interest rates or adjusting capital structure through some method like a recap. Essentially, we can say to management \"Here is a list of every possible combination of the factors that go into acieving your optimal lowest (reasonable) WACC.\""
      ]
    },
    {
      "cell_type": "markdown",
      "metadata": {
        "id": "WHkJrdfKXGIA",
        "colab_type": "text"
      },
      "source": [
        "For a deeper look, let's visualize this using a tool called plotly (if you're having trouble seeing the plot, you should download the Jupyter notebook and run it on your local device):"
      ]
    },
    {
      "cell_type": "code",
      "metadata": {
        "id": "8oCPs711XFGI",
        "colab_type": "code",
        "outputId": "6ccdf4e1-08c8-4ed8-fcdb-e64387a42752",
        "colab": {
          "base_uri": "https://localhost:8080/",
          "height": 542
        }
      },
      "source": [
        "fig = px.scatter_3d(limited_combos, x='cod', y='coe', z='WACC',\n",
        "              color='debtshare', size='debtshare', size_max=18, opacity=0.7)\n",
        "\n",
        "# tight layout\n",
        "fig.update_layout(margin=dict(l=0, r=0, b=0, t=0))"
      ],
      "execution_count": 32,
      "outputs": [
        {
          "output_type": "display_data",
          "data": {
            "text/html": [
              "<html>\n",
              "<head><meta charset=\"utf-8\" /></head>\n",
              "<body>\n",
              "    <div>\n",
              "            <script src=\"https://cdnjs.cloudflare.com/ajax/libs/mathjax/2.7.5/MathJax.js?config=TeX-AMS-MML_SVG\"></script><script type=\"text/javascript\">if (window.MathJax) {MathJax.Hub.Config({SVG: {font: \"STIX-Web\"}});}</script>\n",
              "                <script type=\"text/javascript\">window.PlotlyConfig = {MathJaxConfig: 'local'};</script>\n",
              "        <script src=\"https://cdn.plot.ly/plotly-latest.min.js\"></script>    \n",
              "            <div id=\"11d4d9cd-a88e-44c1-86fa-a506b2c6e3d0\" class=\"plotly-graph-div\" style=\"height:525px; width:100%;\"></div>\n",
              "            <script type=\"text/javascript\">\n",
              "                \n",
              "                    window.PLOTLYENV=window.PLOTLYENV || {};\n",
              "                    \n",
              "                if (document.getElementById(\"11d4d9cd-a88e-44c1-86fa-a506b2c6e3d0\")) {\n",
              "                    Plotly.newPlot(\n",
              "                        '11d4d9cd-a88e-44c1-86fa-a506b2c6e3d0',\n",
              "                        [{\"hoverlabel\": {\"namelength\": 0}, \"hovertemplate\": \"cod=%{x}<br>coe=%{y}<br>WACC=%{z}<br>debtshare=%{marker.color}\", \"legendgroup\": \"\", \"marker\": {\"color\": [0.44999999999999996, 0.2833333333333333, 0.35, 0.41666666666666663, 0.43333333333333335, 0.2, 0.26666666666666666, 0.4, 0.1, 0.3833333333333333, 0.33333333333333337, 0.43333333333333335, 0.11666666666666667, 0.25, 0.41666666666666663, 0.13333333333333333, 0.18333333333333335, 0.3666666666666667, 0.15000000000000002, 0.16666666666666669, 0.5, 0.23333333333333334, 0.18333333333333335, 0.35, 0.2, 0.4, 0.31666666666666665, 0.21666666666666667, 0.16666666666666669, 0.41666666666666663, 0.33333333333333337, 0.23333333333333334, 0.21666666666666667, 0.5, 0.25, 0.31666666666666665, 0.26666666666666666, 0.3833333333333333, 0.2833333333333333, 0.4833333333333333, 0.15000000000000002, 0.30000000000000004, 0.2, 0.30000000000000004, 0.30000000000000004, 0.31666666666666665, 0.4, 0.33333333333333337, 0.5, 0.2833333333333333, 0.4833333333333333, 0.3666666666666667, 0.35, 0.18333333333333335, 0.3666666666666667, 0.13333333333333333, 0.26666666666666666, 0.3833333333333333, 0.4833333333333333, 0.2833333333333333, 0.4, 0.16666666666666669, 0.25, 0.41666666666666663, 0.5, 0.4666666666666667, 0.35, 0.4666666666666667, 0.43333333333333335, 0.4833333333333333, 0.3833333333333333, 0.4666666666666667, 0.11666666666666667, 0.23333333333333334, 0.44999999999999996, 0.4666666666666667, 0.4666666666666667, 0.15000000000000002, 0.44999999999999996, 0.26666666666666666, 0.4833333333333333, 0.21666666666666667, 0.43333333333333335, 0.33333333333333337, 0.44999999999999996, 0.5, 0.41666666666666663, 0.44999999999999996, 0.1, 0.13333333333333333, 0.2, 0.4, 0.44999999999999996, 0.3666666666666667, 0.3833333333333333, 0.43333333333333335, 0.18333333333333335, 0.31666666666666665, 0.3666666666666667, 0.25, 0.11666666666666667, 0.35, 0.16666666666666669, 0.33333333333333337, 0.41666666666666663, 0.43333333333333335, 0.31666666666666665, 0.1, 0.15000000000000002, 0.30000000000000004, 0.30000000000000004, 0.35, 0.4, 0.2833333333333333, 0.23333333333333334, 0.43333333333333335, 0.13333333333333333, 0.26666666666666666, 0.41666666666666663, 0.25, 0.3833333333333333, 0.2833333333333333, 0.11666666666666667, 0.23333333333333334, 0.21666666666666667, 0.5, 0.1, 0.2, 0.21666666666666667, 0.33333333333333337, 0.3666666666666667, 0.18333333333333335, 0.26666666666666666, 0.4, 0.16666666666666669, 0.41666666666666663, 0.15000000000000002, 0.35, 0.5, 0.13333333333333333, 0.4833333333333333, 0.11666666666666667, 0.2, 0.25, 0.1, 0.31666666666666665, 0.33333333333333337, 0.3833333333333333, 0.4833333333333333, 0.5, 0.4, 0.31666666666666665, 0.23333333333333334, 0.4833333333333333, 0.18333333333333335, 0.4666666666666667, 0.4666666666666667, 0.3666666666666667, 0.4666666666666667, 0.30000000000000004, 0.1, 0.11666666666666667, 0.13333333333333333, 0.15000000000000002, 0.16666666666666669, 0.18333333333333335, 0.30000000000000004, 0.2, 0.21666666666666667, 0.23333333333333334, 0.25, 0.26666666666666666, 0.2833333333333333, 0.30000000000000004, 0.31666666666666665, 0.33333333333333337, 0.35, 0.3666666666666667, 0.3833333333333333, 0.4, 0.41666666666666663, 0.43333333333333335, 0.44999999999999996, 0.4666666666666667, 0.4833333333333333, 0.5, 0.21666666666666667, 0.44999999999999996, 0.44999999999999996, 0.16666666666666669, 0.2833333333333333, 0.3833333333333333, 0.43333333333333335, 0.35, 0.44999999999999996, 0.2, 0.41666666666666663, 0.2833333333333333, 0.26666666666666666, 0.43333333333333335, 0.4, 0.15000000000000002, 0.25, 0.33333333333333337, 0.3833333333333333, 0.18333333333333335, 0.43333333333333335, 0.3666666666666667, 0.41666666666666663, 0.3666666666666667, 0.26666666666666666, 0.23333333333333334, 0.13333333333333333, 0.35, 0.16666666666666669, 0.31666666666666665, 0.4, 0.21666666666666667, 0.33333333333333337, 0.41666666666666663, 0.35, 0.31666666666666665, 0.15000000000000002, 0.25, 0.2, 0.11666666666666667, 0.5, 0.3833333333333333, 0.30000000000000004, 0.30000000000000004, 0.2833333333333333, 0.18333333333333335, 0.13333333333333333, 0.4, 0.3666666666666667, 0.5, 0.26666666666666666, 0.4833333333333333, 0.1, 0.2833333333333333, 0.23333333333333334, 0.33333333333333337, 0.16666666666666669, 0.25, 0.11666666666666667, 0.4833333333333333, 0.35, 0.23333333333333334, 0.15000000000000002, 0.5, 0.3833333333333333, 0.4666666666666667, 0.4833333333333333, 0.4666666666666667, 0.21666666666666667, 0.26666666666666666, 0.4666666666666667, 0.1, 0.21666666666666667, 0.13333333333333333, 0.44999999999999996, 0.33333333333333337, 0.2, 0.31666666666666665, 0.43333333333333335, 0.44999999999999996, 0.41666666666666663, 0.18333333333333335, 0.44999999999999996, 0.4, 0.11666666666666667, 0.3666666666666667, 0.3833333333333333, 0.25, 0.31666666666666665, 0.43333333333333335, 0.3666666666666667, 0.16666666666666669, 0.35, 0.2, 0.1, 0.33333333333333337, 0.15000000000000002, 0.41666666666666663, 0.31666666666666665, 0.43333333333333335, 0.30000000000000004, 0.30000000000000004, 0.30000000000000004, 0.13333333333333333, 0.23333333333333334, 0.2833333333333333, 0.35, 0.26666666666666666, 0.4, 0.11666666666666667, 0.25, 0.23333333333333334, 0.2833333333333333, 0.18333333333333335, 0.41666666666666663, 0.1, 0.21666666666666667, 0.3833333333333333, 0.2, 0.21666666666666667, 0.18333333333333335, 0.2833333333333333, 0.33333333333333337, 0.16666666666666669, 0.3666666666666667, 0.26666666666666666, 0.15000000000000002, 0.13333333333333333, 0.4, 0.11666666666666667, 0.16666666666666669, 0.35, 0.2, 0.1, 0.25, 0.5, 0.31666666666666665, 0.33333333333333337, 0.26666666666666666, 0.3833333333333333, 0.23333333333333334, 0.18333333333333335, 0.4833333333333333, 0.15000000000000002, 0.31666666666666665, 0.5, 0.4833333333333333, 0.3666666666666667, 0.30000000000000004, 0.30000000000000004, 0.4666666666666667, 0.21666666666666667, 0.4666666666666667, 0.16666666666666669, 0.25, 0.2833333333333333, 0.44999999999999996, 0.13333333333333333, 0.44999999999999996, 0.2, 0.35, 0.43333333333333335, 0.26666666666666666, 0.2833333333333333, 0.41666666666666663, 0.15000000000000002, 0.43333333333333335, 0.4, 0.18333333333333335, 0.25, 0.23333333333333334, 0.11666666666666667, 0.33333333333333337, 0.3833333333333333, 0.23333333333333334, 0.13333333333333333, 0.26666666666666666, 0.41666666666666663, 0.3666666666666667, 0.16666666666666669, 0.35, 0.31666666666666665, 0.21666666666666667, 0.1, 0.33333333333333337, 0.4, 0.21666666666666667, 0.15000000000000002, 0.11666666666666667, 0.2, 0.31666666666666665, 0.25, 0.30000000000000004, 0.30000000000000004, 0.3833333333333333, 0.18333333333333335, 0.13333333333333333, 0.2833333333333333, 0.1, 0.2, 0.26666666666666666, 0.16666666666666669, 0.3666666666666667, 0.23333333333333334, 0.2833333333333333, 0.11666666666666667, 0.25, 0.5, 0.15000000000000002, 0.23333333333333334, 0.35, 0.4833333333333333, 0.1, 0.21666666666666667, 0.13333333333333333, 0.26666666666666666, 0.21666666666666667, 0.18333333333333335, 0.2, 0.4666666666666667, 0.33333333333333337, 0.11666666666666667, 0.18333333333333335, 0.44999999999999996, 0.16666666666666669, 0.25, 0.1, 0.31666666666666665, 0.2, 0.15000000000000002, 0.43333333333333335, 0.16666666666666669, 0.13333333333333333, 0.30000000000000004, 0.41666666666666663, 0.23333333333333334, 0.11666666666666667, 0.1, 0.4, 0.18333333333333335, 0.2833333333333333, 0.21666666666666667, 0.15000000000000002, 0.3833333333333333, 0.26666666666666666, 0.3666666666666667, 0.16666666666666669, 0.2, 0.35, 0.25, 0.13333333333333333, 0.33333333333333337, 0.18333333333333335, 0.15000000000000002, 0.23333333333333334, 0.31666666666666665, 0.21666666666666667, 0.30000000000000004, 0.11666666666666667, 0.16666666666666669, 0.13333333333333333, 0.2833333333333333, 0.2, 0.15000000000000002, 0.26666666666666666, 0.1, 0.18333333333333335, 0.11666666666666667, 0.25, 0.13333333333333333, 0.23333333333333334, 0.16666666666666669, 0.1, 0.21666666666666667, 0.15000000000000002, 0.11666666666666667, 0.2, 0.13333333333333333, 0.18333333333333335, 0.1, 0.16666666666666669, 0.11666666666666667, 0.15000000000000002, 0.1, 0.13333333333333333, 0.11666666666666667, 0.1], \"coloraxis\": \"coloraxis\", \"opacity\": 0.7, \"size\": [0.44999999999999996, 0.2833333333333333, 0.35, 0.41666666666666663, 0.43333333333333335, 0.2, 0.26666666666666666, 0.4, 0.1, 0.3833333333333333, 0.33333333333333337, 0.43333333333333335, 0.11666666666666667, 0.25, 0.41666666666666663, 0.13333333333333333, 0.18333333333333335, 0.3666666666666667, 0.15000000000000002, 0.16666666666666669, 0.5, 0.23333333333333334, 0.18333333333333335, 0.35, 0.2, 0.4, 0.31666666666666665, 0.21666666666666667, 0.16666666666666669, 0.41666666666666663, 0.33333333333333337, 0.23333333333333334, 0.21666666666666667, 0.5, 0.25, 0.31666666666666665, 0.26666666666666666, 0.3833333333333333, 0.2833333333333333, 0.4833333333333333, 0.15000000000000002, 0.30000000000000004, 0.2, 0.30000000000000004, 0.30000000000000004, 0.31666666666666665, 0.4, 0.33333333333333337, 0.5, 0.2833333333333333, 0.4833333333333333, 0.3666666666666667, 0.35, 0.18333333333333335, 0.3666666666666667, 0.13333333333333333, 0.26666666666666666, 0.3833333333333333, 0.4833333333333333, 0.2833333333333333, 0.4, 0.16666666666666669, 0.25, 0.41666666666666663, 0.5, 0.4666666666666667, 0.35, 0.4666666666666667, 0.43333333333333335, 0.4833333333333333, 0.3833333333333333, 0.4666666666666667, 0.11666666666666667, 0.23333333333333334, 0.44999999999999996, 0.4666666666666667, 0.4666666666666667, 0.15000000000000002, 0.44999999999999996, 0.26666666666666666, 0.4833333333333333, 0.21666666666666667, 0.43333333333333335, 0.33333333333333337, 0.44999999999999996, 0.5, 0.41666666666666663, 0.44999999999999996, 0.1, 0.13333333333333333, 0.2, 0.4, 0.44999999999999996, 0.3666666666666667, 0.3833333333333333, 0.43333333333333335, 0.18333333333333335, 0.31666666666666665, 0.3666666666666667, 0.25, 0.11666666666666667, 0.35, 0.16666666666666669, 0.33333333333333337, 0.41666666666666663, 0.43333333333333335, 0.31666666666666665, 0.1, 0.15000000000000002, 0.30000000000000004, 0.30000000000000004, 0.35, 0.4, 0.2833333333333333, 0.23333333333333334, 0.43333333333333335, 0.13333333333333333, 0.26666666666666666, 0.41666666666666663, 0.25, 0.3833333333333333, 0.2833333333333333, 0.11666666666666667, 0.23333333333333334, 0.21666666666666667, 0.5, 0.1, 0.2, 0.21666666666666667, 0.33333333333333337, 0.3666666666666667, 0.18333333333333335, 0.26666666666666666, 0.4, 0.16666666666666669, 0.41666666666666663, 0.15000000000000002, 0.35, 0.5, 0.13333333333333333, 0.4833333333333333, 0.11666666666666667, 0.2, 0.25, 0.1, 0.31666666666666665, 0.33333333333333337, 0.3833333333333333, 0.4833333333333333, 0.5, 0.4, 0.31666666666666665, 0.23333333333333334, 0.4833333333333333, 0.18333333333333335, 0.4666666666666667, 0.4666666666666667, 0.3666666666666667, 0.4666666666666667, 0.30000000000000004, 0.1, 0.11666666666666667, 0.13333333333333333, 0.15000000000000002, 0.16666666666666669, 0.18333333333333335, 0.30000000000000004, 0.2, 0.21666666666666667, 0.23333333333333334, 0.25, 0.26666666666666666, 0.2833333333333333, 0.30000000000000004, 0.31666666666666665, 0.33333333333333337, 0.35, 0.3666666666666667, 0.3833333333333333, 0.4, 0.41666666666666663, 0.43333333333333335, 0.44999999999999996, 0.4666666666666667, 0.4833333333333333, 0.5, 0.21666666666666667, 0.44999999999999996, 0.44999999999999996, 0.16666666666666669, 0.2833333333333333, 0.3833333333333333, 0.43333333333333335, 0.35, 0.44999999999999996, 0.2, 0.41666666666666663, 0.2833333333333333, 0.26666666666666666, 0.43333333333333335, 0.4, 0.15000000000000002, 0.25, 0.33333333333333337, 0.3833333333333333, 0.18333333333333335, 0.43333333333333335, 0.3666666666666667, 0.41666666666666663, 0.3666666666666667, 0.26666666666666666, 0.23333333333333334, 0.13333333333333333, 0.35, 0.16666666666666669, 0.31666666666666665, 0.4, 0.21666666666666667, 0.33333333333333337, 0.41666666666666663, 0.35, 0.31666666666666665, 0.15000000000000002, 0.25, 0.2, 0.11666666666666667, 0.5, 0.3833333333333333, 0.30000000000000004, 0.30000000000000004, 0.2833333333333333, 0.18333333333333335, 0.13333333333333333, 0.4, 0.3666666666666667, 0.5, 0.26666666666666666, 0.4833333333333333, 0.1, 0.2833333333333333, 0.23333333333333334, 0.33333333333333337, 0.16666666666666669, 0.25, 0.11666666666666667, 0.4833333333333333, 0.35, 0.23333333333333334, 0.15000000000000002, 0.5, 0.3833333333333333, 0.4666666666666667, 0.4833333333333333, 0.4666666666666667, 0.21666666666666667, 0.26666666666666666, 0.4666666666666667, 0.1, 0.21666666666666667, 0.13333333333333333, 0.44999999999999996, 0.33333333333333337, 0.2, 0.31666666666666665, 0.43333333333333335, 0.44999999999999996, 0.41666666666666663, 0.18333333333333335, 0.44999999999999996, 0.4, 0.11666666666666667, 0.3666666666666667, 0.3833333333333333, 0.25, 0.31666666666666665, 0.43333333333333335, 0.3666666666666667, 0.16666666666666669, 0.35, 0.2, 0.1, 0.33333333333333337, 0.15000000000000002, 0.41666666666666663, 0.31666666666666665, 0.43333333333333335, 0.30000000000000004, 0.30000000000000004, 0.30000000000000004, 0.13333333333333333, 0.23333333333333334, 0.2833333333333333, 0.35, 0.26666666666666666, 0.4, 0.11666666666666667, 0.25, 0.23333333333333334, 0.2833333333333333, 0.18333333333333335, 0.41666666666666663, 0.1, 0.21666666666666667, 0.3833333333333333, 0.2, 0.21666666666666667, 0.18333333333333335, 0.2833333333333333, 0.33333333333333337, 0.16666666666666669, 0.3666666666666667, 0.26666666666666666, 0.15000000000000002, 0.13333333333333333, 0.4, 0.11666666666666667, 0.16666666666666669, 0.35, 0.2, 0.1, 0.25, 0.5, 0.31666666666666665, 0.33333333333333337, 0.26666666666666666, 0.3833333333333333, 0.23333333333333334, 0.18333333333333335, 0.4833333333333333, 0.15000000000000002, 0.31666666666666665, 0.5, 0.4833333333333333, 0.3666666666666667, 0.30000000000000004, 0.30000000000000004, 0.4666666666666667, 0.21666666666666667, 0.4666666666666667, 0.16666666666666669, 0.25, 0.2833333333333333, 0.44999999999999996, 0.13333333333333333, 0.44999999999999996, 0.2, 0.35, 0.43333333333333335, 0.26666666666666666, 0.2833333333333333, 0.41666666666666663, 0.15000000000000002, 0.43333333333333335, 0.4, 0.18333333333333335, 0.25, 0.23333333333333334, 0.11666666666666667, 0.33333333333333337, 0.3833333333333333, 0.23333333333333334, 0.13333333333333333, 0.26666666666666666, 0.41666666666666663, 0.3666666666666667, 0.16666666666666669, 0.35, 0.31666666666666665, 0.21666666666666667, 0.1, 0.33333333333333337, 0.4, 0.21666666666666667, 0.15000000000000002, 0.11666666666666667, 0.2, 0.31666666666666665, 0.25, 0.30000000000000004, 0.30000000000000004, 0.3833333333333333, 0.18333333333333335, 0.13333333333333333, 0.2833333333333333, 0.1, 0.2, 0.26666666666666666, 0.16666666666666669, 0.3666666666666667, 0.23333333333333334, 0.2833333333333333, 0.11666666666666667, 0.25, 0.5, 0.15000000000000002, 0.23333333333333334, 0.35, 0.4833333333333333, 0.1, 0.21666666666666667, 0.13333333333333333, 0.26666666666666666, 0.21666666666666667, 0.18333333333333335, 0.2, 0.4666666666666667, 0.33333333333333337, 0.11666666666666667, 0.18333333333333335, 0.44999999999999996, 0.16666666666666669, 0.25, 0.1, 0.31666666666666665, 0.2, 0.15000000000000002, 0.43333333333333335, 0.16666666666666669, 0.13333333333333333, 0.30000000000000004, 0.41666666666666663, 0.23333333333333334, 0.11666666666666667, 0.1, 0.4, 0.18333333333333335, 0.2833333333333333, 0.21666666666666667, 0.15000000000000002, 0.3833333333333333, 0.26666666666666666, 0.3666666666666667, 0.16666666666666669, 0.2, 0.35, 0.25, 0.13333333333333333, 0.33333333333333337, 0.18333333333333335, 0.15000000000000002, 0.23333333333333334, 0.31666666666666665, 0.21666666666666667, 0.30000000000000004, 0.11666666666666667, 0.16666666666666669, 0.13333333333333333, 0.2833333333333333, 0.2, 0.15000000000000002, 0.26666666666666666, 0.1, 0.18333333333333335, 0.11666666666666667, 0.25, 0.13333333333333333, 0.23333333333333334, 0.16666666666666669, 0.1, 0.21666666666666667, 0.15000000000000002, 0.11666666666666667, 0.2, 0.13333333333333333, 0.18333333333333335, 0.1, 0.16666666666666669, 0.11666666666666667, 0.15000000000000002, 0.1, 0.13333333333333333, 0.11666666666666667, 0.1], \"sizemode\": \"area\", \"sizeref\": 0.0015432098765432098, \"symbol\": \"circle\"}, \"mode\": \"markers\", \"name\": \"\", \"scene\": \"scene\", \"showlegend\": false, \"type\": \"scatter3d\", \"x\": [0.02, 0.03, 0.02, 0.039999999999999994, 0.03, 0.02, 0.03, 0.039999999999999994, 0.06, 0.039999999999999994, 0.02, 0.02, 0.06, 0.03, 0.03, 0.06, 0.02, 0.039999999999999994, 0.06, 0.06, 0.02, 0.03, 0.06, 0.039999999999999994, 0.06, 0.03, 0.02, 0.06, 0.02, 0.02, 0.039999999999999994, 0.06, 0.03, 0.03, 0.06, 0.039999999999999994, 0.06, 0.03, 0.06, 0.02, 0.02, 0.02, 0.03, 0.039999999999999994, 0.06, 0.06, 0.02, 0.06, 0.039999999999999994, 0.039999999999999994, 0.03, 0.03, 0.06, 0.03, 0.06, 0.02, 0.039999999999999994, 0.06, 0.039999999999999994, 0.02, 0.06, 0.03, 0.039999999999999994, 0.06, 0.049999999999999996, 0.02, 0.03, 0.03, 0.06, 0.049999999999999996, 0.02, 0.039999999999999994, 0.02, 0.039999999999999994, 0.06, 0.049999999999999996, 0.06, 0.03, 0.049999999999999996, 0.02, 0.06, 0.039999999999999994, 0.049999999999999996, 0.03, 0.039999999999999994, 0.06, 0.049999999999999996, 0.03, 0.02, 0.03, 0.039999999999999994, 0.049999999999999996, 0.02, 0.02, 0.049999999999999996, 0.039999999999999994, 0.039999999999999994, 0.03, 0.049999999999999996, 0.02, 0.03, 0.049999999999999996, 0.039999999999999994, 0.049999999999999996, 0.039999999999999994, 0.03, 0.049999999999999996, 0.03, 0.039999999999999994, 0.03, 0.049999999999999996, 0.02, 0.039999999999999994, 0.049999999999999996, 0.02, 0.02, 0.039999999999999994, 0.049999999999999996, 0.03, 0.049999999999999996, 0.039999999999999994, 0.03, 0.039999999999999994, 0.049999999999999996, 0.049999999999999996, 0.03, 0.039999999999999994, 0.049999999999999996, 0.02, 0.02, 0.039999999999999994, 0.049999999999999996, 0.03, 0.03, 0.049999999999999996, 0.02, 0.049999999999999996, 0.039999999999999994, 0.039999999999999994, 0.049999999999999996, 0.03, 0.049999999999999996, 0.02, 0.03, 0.049999999999999996, 0.02, 0.039999999999999994, 0.03, 0.039999999999999994, 0.049999999999999996, 0.02, 0.039999999999999994, 0.03, 0.049999999999999996, 0.02, 0.03, 0.039999999999999994, 0.03, 0.049999999999999996, 0.02, 0.06, 0.06, 0.06, 0.06, 0.06, 0.06, 0.039999999999999994, 0.06, 0.06, 0.06, 0.06, 0.06, 0.06, 0.06, 0.06, 0.06, 0.06, 0.06, 0.06, 0.06, 0.06, 0.06, 0.06, 0.06, 0.06, 0.06, 0.03, 0.049999999999999996, 0.039999999999999994, 0.02, 0.039999999999999994, 0.02, 0.049999999999999996, 0.03, 0.03, 0.03, 0.049999999999999996, 0.02, 0.039999999999999994, 0.039999999999999994, 0.049999999999999996, 0.02, 0.039999999999999994, 0.03, 0.049999999999999996, 0.03, 0.03, 0.02, 0.039999999999999994, 0.049999999999999996, 0.02, 0.039999999999999994, 0.02, 0.049999999999999996, 0.03, 0.03, 0.039999999999999994, 0.039999999999999994, 0.049999999999999996, 0.03, 0.02, 0.049999999999999996, 0.03, 0.02, 0.039999999999999994, 0.02, 0.039999999999999994, 0.039999999999999994, 0.03, 0.049999999999999996, 0.049999999999999996, 0.039999999999999994, 0.03, 0.03, 0.039999999999999994, 0.049999999999999996, 0.049999999999999996, 0.039999999999999994, 0.02, 0.03, 0.02, 0.02, 0.039999999999999994, 0.049999999999999996, 0.03, 0.049999999999999996, 0.039999999999999994, 0.049999999999999996, 0.039999999999999994, 0.06, 0.03, 0.039999999999999994, 0.06, 0.049999999999999996, 0.049999999999999996, 0.03, 0.06, 0.03, 0.02, 0.039999999999999994, 0.06, 0.039999999999999994, 0.049999999999999996, 0.02, 0.06, 0.049999999999999996, 0.06, 0.049999999999999996, 0.039999999999999994, 0.06, 0.039999999999999994, 0.03, 0.06, 0.03, 0.039999999999999994, 0.049999999999999996, 0.06, 0.049999999999999996, 0.06, 0.02, 0.039999999999999994, 0.06, 0.049999999999999996, 0.049999999999999996, 0.06, 0.039999999999999994, 0.02, 0.039999999999999994, 0.06, 0.049999999999999996, 0.03, 0.06, 0.03, 0.06, 0.049999999999999996, 0.049999999999999996, 0.06, 0.06, 0.039999999999999994, 0.02, 0.039999999999999994, 0.049999999999999996, 0.06, 0.049999999999999996, 0.06, 0.03, 0.06, 0.02, 0.03, 0.06, 0.049999999999999996, 0.039999999999999994, 0.06, 0.06, 0.039999999999999994, 0.06, 0.02, 0.049999999999999996, 0.03, 0.06, 0.039999999999999994, 0.049999999999999996, 0.03, 0.049999999999999996, 0.02, 0.039999999999999994, 0.039999999999999994, 0.03, 0.049999999999999996, 0.02, 0.049999999999999996, 0.06, 0.06, 0.039999999999999994, 0.03, 0.049999999999999996, 0.049999999999999996, 0.039999999999999994, 0.06, 0.03, 0.02, 0.049999999999999996, 0.06, 0.02, 0.049999999999999996, 0.039999999999999994, 0.039999999999999994, 0.06, 0.049999999999999996, 0.03, 0.06, 0.03, 0.049999999999999996, 0.06, 0.039999999999999994, 0.049999999999999996, 0.02, 0.02, 0.039999999999999994, 0.06, 0.049999999999999996, 0.03, 0.03, 0.049999999999999996, 0.06, 0.039999999999999994, 0.06, 0.039999999999999994, 0.049999999999999996, 0.02, 0.06, 0.049999999999999996, 0.02, 0.039999999999999994, 0.03, 0.049999999999999996, 0.06, 0.03, 0.039999999999999994, 0.06, 0.049999999999999996, 0.049999999999999996, 0.039999999999999994, 0.06, 0.03, 0.02, 0.06, 0.049999999999999996, 0.049999999999999996, 0.03, 0.039999999999999994, 0.039999999999999994, 0.06, 0.06, 0.049999999999999996, 0.06, 0.049999999999999996, 0.06, 0.039999999999999994, 0.06, 0.049999999999999996, 0.039999999999999994, 0.03, 0.02, 0.06, 0.06, 0.049999999999999996, 0.049999999999999996, 0.06, 0.06, 0.06, 0.039999999999999994, 0.049999999999999996, 0.049999999999999996, 0.03, 0.06, 0.06, 0.02, 0.06, 0.049999999999999996, 0.06, 0.039999999999999994, 0.06, 0.06, 0.06, 0.03, 0.049999999999999996, 0.039999999999999994, 0.02, 0.06, 0.049999999999999996, 0.06, 0.03, 0.039999999999999994, 0.06, 0.049999999999999996, 0.02, 0.06, 0.039999999999999994, 0.03, 0.049999999999999996, 0.06, 0.049999999999999996, 0.06, 0.02, 0.039999999999999994, 0.03, 0.06, 0.049999999999999996, 0.039999999999999994, 0.06, 0.02, 0.049999999999999996, 0.03, 0.06, 0.039999999999999994, 0.06, 0.049999999999999996, 0.03, 0.06, 0.049999999999999996, 0.039999999999999994, 0.06, 0.049999999999999996, 0.06, 0.039999999999999994, 0.06, 0.049999999999999996, 0.06, 0.049999999999999996, 0.06, 0.06, 0.06], \"y\": [0.09, 0.07, 0.08, 0.07, 0.08, 0.07, 0.07, 0.07, 0.06, 0.07, 0.08, 0.09, 0.06, 0.07, 0.08, 0.06, 0.07, 0.07, 0.06, 0.06, 0.1, 0.07, 0.06, 0.07, 0.06, 0.08, 0.08, 0.06, 0.07, 0.09, 0.07, 0.06, 0.07, 0.09, 0.06, 0.07, 0.06, 0.08, 0.06, 0.1, 0.07, 0.08, 0.07, 0.07, 0.06, 0.06, 0.09, 0.06, 0.08, 0.07, 0.09, 0.08, 0.06, 0.07, 0.06, 0.07, 0.07, 0.06, 0.08, 0.08, 0.06, 0.07, 0.07, 0.06, 0.07, 0.1, 0.08, 0.09, 0.06, 0.07, 0.09, 0.08, 0.07, 0.07, 0.06, 0.07, 0.06, 0.07, 0.07, 0.08, 0.06, 0.07, 0.07, 0.08, 0.08, 0.06, 0.07, 0.09, 0.07, 0.07, 0.07, 0.07, 0.1, 0.09, 0.07, 0.08, 0.07, 0.08, 0.07, 0.08, 0.07, 0.07, 0.07, 0.07, 0.08, 0.09, 0.07, 0.07, 0.07, 0.08, 0.07, 0.09, 0.08, 0.07, 0.08, 0.1, 0.07, 0.07, 0.09, 0.07, 0.08, 0.08, 0.07, 0.07, 0.07, 0.1, 0.07, 0.07, 0.08, 0.09, 0.08, 0.07, 0.08, 0.09, 0.07, 0.1, 0.07, 0.08, 0.09, 0.07, 0.1, 0.07, 0.08, 0.08, 0.07, 0.09, 0.08, 0.09, 0.09, 0.08, 0.1, 0.08, 0.08, 0.08, 0.08, 0.1, 0.09, 0.09, 0.08, 0.09, 0.07, 0.07, 0.07, 0.07, 0.07, 0.07, 0.08, 0.07, 0.07, 0.07, 0.07, 0.07, 0.07, 0.07, 0.07, 0.07, 0.07, 0.07, 0.07, 0.07, 0.07, 0.07, 0.07, 0.07, 0.07, 0.07, 0.08, 0.08, 0.09, 0.08, 0.08, 0.1, 0.08, 0.09, 0.1, 0.08, 0.08, 0.09, 0.08, 0.09, 0.08, 0.08, 0.08, 0.09, 0.08, 0.08, 0.1, 0.1, 0.09, 0.08, 0.09, 0.08, 0.08, 0.08, 0.08, 0.09, 0.09, 0.08, 0.08, 0.1, 0.1, 0.08, 0.08, 0.09, 0.08, 0.08, 0.1, 0.09, 0.09, 0.08, 0.08, 0.08, 0.08, 0.1, 0.09, 0.09, 0.08, 0.1, 0.08, 0.09, 0.09, 0.1, 0.08, 0.08, 0.08, 0.09, 0.09, 0.08, 0.08, 0.08, 0.1, 0.1, 0.08, 0.09, 0.08, 0.09, 0.08, 0.08, 0.09, 0.08, 0.08, 0.09, 0.08, 0.1, 0.08, 0.09, 0.08, 0.08, 0.1, 0.08, 0.08, 0.1, 0.08, 0.09, 0.09, 0.09, 0.08, 0.08, 0.08, 0.09, 0.08, 0.08, 0.08, 0.09, 0.08, 0.1, 0.1, 0.09, 0.08, 0.08, 0.09, 0.08, 0.1, 0.08, 0.09, 0.08, 0.08, 0.08, 0.09, 0.09, 0.1, 0.08, 0.08, 0.09, 0.08, 0.09, 0.08, 0.1, 0.1, 0.08, 0.09, 0.09, 0.08, 0.08, 0.1, 0.08, 0.09, 0.09, 0.09, 0.08, 0.09, 0.1, 0.1, 0.09, 0.1, 0.1, 0.09, 0.09, 0.1, 0.09, 0.09, 0.09, 0.09, 0.1, 0.1, 0.09, 0.1, 0.09, 0.09, 0.09, 0.1, 0.09, 0.09, 0.09, 0.1, 0.09, 0.1, 0.09, 0.09, 0.1, 0.09, 0.09, 0.1, 0.09, 0.09, 0.09, 0.1, 0.09, 0.1, 0.09, 0.09, 0.09, 0.1, 0.1, 0.09, 0.09, 0.09, 0.1, 0.09, 0.09, 0.09, 0.1, 0.1, 0.09, 0.09, 0.09, 0.09, 0.1, 0.1, 0.09, 0.1, 0.09, 0.09, 0.09, 0.09, 0.1, 0.09, 0.09, 0.1, 0.1, 0.1, 0.09, 0.09, 0.1, 0.09, 0.09, 0.1, 0.1, 0.09, 0.09, 0.09, 0.1, 0.1, 0.1, 0.09, 0.1, 0.1, 0.09, 0.09, 0.1, 0.09, 0.1, 0.09, 0.1, 0.1, 0.09, 0.1, 0.1, 0.09, 0.1, 0.1, 0.1, 0.09, 0.09, 0.1, 0.1, 0.1, 0.1, 0.1, 0.1, 0.1, 0.1, 0.1, 0.1, 0.1, 0.1, 0.1, 0.1, 0.1, 0.1, 0.1, 0.1, 0.1, 0.1, 0.1, 0.1, 0.1, 0.1, 0.1, 0.1, 0.1, 0.1, 0.1, 0.1, 0.1, 0.1, 0.1, 0.1, 0.1, 0.1, 0.1, 0.1, 0.1, 0.1, 0.1, 0.1, 0.1, 0.1, 0.1, 0.1, 0.1, 0.1, 0.1], \"z\": [0.06003, 0.060111666666666674, 0.06019000000000001, 0.060333333333333336, 0.06054333333333333, 0.06068000000000001, 0.06069333333333334, 0.060719999999999996, 0.06102, 0.06110666666666667, 0.06113333333333333, 0.06114, 0.061189999999999994, 0.061275, 0.06129166666666667, 0.06136, 0.06145666666666667, 0.06149333333333333, 0.06153, 0.0617, 0.061700000000000005, 0.06185666666666667, 0.061869999999999994, 0.061880000000000004, 0.06204, 0.06204, 0.06207666666666667, 0.06221, 0.062233333333333335, 0.06225, 0.062266666666666665, 0.06237999999999999, 0.06243833333333334, 0.06255, 0.06255, 0.06265333333333334, 0.06272, 0.06278833333333333, 0.06289, 0.06297666666666667, 0.06301000000000001, 0.06301999999999999, 0.06302, 0.06304, 0.06306, 0.06323000000000001, 0.06336, 0.0634, 0.0634, 0.06342666666666667, 0.063465, 0.06353666666666667, 0.06357, 0.06360166666666667, 0.06374, 0.06378666666666667, 0.06381333333333333, 0.06391, 0.06395333333333333, 0.06396333333333333, 0.06408, 0.06418333333333333, 0.06420000000000001, 0.06425, 0.06425, 0.06425333333333334, 0.06428500000000001, 0.06437999999999999, 0.06441999999999999, 0.06444166666666666, 0.06447, 0.06450666666666666, 0.06456333333333333, 0.06458666666666667, 0.06459, 0.06463333333333333, 0.06476, 0.064765, 0.064825, 0.06490666666666667, 0.06493, 0.06497333333333334, 0.06501666666666667, 0.06503333333333333, 0.06505999999999999, 0.06509999999999999, 0.06520833333333334, 0.06529499999999999, 0.06534000000000001, 0.06534666666666668, 0.06536, 0.0654, 0.06553, 0.06558, 0.06559166666666666, 0.06561333333333333, 0.06574666666666668, 0.06578166666666667, 0.06578333333333333, 0.06584999999999999, 0.06592833333333334, 0.065975, 0.06613333333333334, 0.06616666666666667, 0.06616666666666667, 0.06620999999999999, 0.06635833333333334, 0.06651000000000001, 0.06652000000000001, 0.06652999999999999, 0.06655, 0.06669, 0.06672, 0.06674166666666667, 0.06679333333333333, 0.06680666666666667, 0.06690666666666667, 0.06693333333333334, 0.06712499999999999, 0.067125, 0.06727333333333334, 0.06727833333333333, 0.06729333333333333, 0.06731666666666666, 0.06750833333333334, 0.06755, 0.06768000000000002, 0.06770000000000001, 0.06773666666666667, 0.0678, 0.06782666666666666, 0.06789166666666667, 0.06802666666666668, 0.06804, 0.06808333333333333, 0.06808333333333334, 0.068275, 0.06838, 0.06839999999999999, 0.06846666666666668, 0.06863166666666667, 0.06865833333333334, 0.06868, 0.068775, 0.06885000000000001, 0.06891, 0.06893333333333333, 0.068955, 0.06911999999999999, 0.06924999999999999, 0.06936, 0.06948666666666667, 0.06952333333333333, 0.06960833333333333, 0.06962333333333333, 0.06971333333333334, 0.06984, 0.06987, 0.06996666666666666, 0.07002, 0.07002000000000001, 0.07002333333333334, 0.07002666666666668, 0.07003000000000001, 0.07003333333333334, 0.07003666666666668, 0.07003999999999999, 0.07004, 0.07004333333333333, 0.07004666666666667, 0.07005, 0.07005333333333334, 0.07005666666666667, 0.07006000000000001, 0.07006333333333334, 0.07006666666666667, 0.07007000000000001, 0.07007333333333333, 0.07007666666666668, 0.07008, 0.07008333333333333, 0.07008666666666667, 0.07009, 0.07009333333333334, 0.07009666666666667, 0.0701, 0.07027166666666666, 0.070325, 0.07056, 0.07056666666666667, 0.07059333333333333, 0.07063666666666668, 0.07068333333333332, 0.070785, 0.070795, 0.07102, 0.07104166666666667, 0.07113, 0.07114666666666666, 0.07128, 0.07139999999999999, 0.07151, 0.0717, 0.0717, 0.07175833333333334, 0.07176833333333332, 0.07187666666666667, 0.07191333333333334, 0.072, 0.07211666666666666, 0.07224, 0.07225333333333332, 0.07245333333333334, 0.072475, 0.07251666666666666, 0.072615, 0.07271999999999999, 0.07280666666666666, 0.07283333333333333, 0.07295833333333335, 0.07319, 0.07319166666666667, 0.07326500000000001, 0.07335, 0.07336, 0.07339666666666667, 0.07339999999999999, 0.07343999999999999, 0.07353, 0.07354999999999999, 0.07390833333333333, 0.07391333333333333, 0.07401333333333335, 0.07404, 0.07415999999999999, 0.07425, 0.07426666666666668, 0.07428666666666667, 0.07434, 0.074445, 0.07446, 0.07446666666666667, 0.07446666666666667, 0.074625, 0.07476166666666667, 0.074775, 0.07487999999999999, 0.07498333333333333, 0.07502, 0.0751, 0.07512166666666667, 0.07517333333333333, 0.07526333333333333, 0.07529999999999999, 0.07534166666666667, 0.07536000000000001, 0.07542666666666667, 0.07551000000000001, 0.07557, 0.07557333333333334, 0.07558999999999999, 0.0756, 0.0757, 0.07574333333333334, 0.07575333333333333, 0.075825, 0.07591666666666666, 0.07605833333333333, 0.07606, 0.07608000000000001, 0.07612666666666666, 0.07620333333333335, 0.07624333333333333, 0.07627500000000001, 0.07632, 0.07635, 0.07640666666666666, 0.07641666666666666, 0.07657, 0.07668, 0.07668000000000001, 0.07673333333333333, 0.07677500000000001, 0.076875, 0.07689666666666667, 0.07694666666666666, 0.07701999999999999, 0.07704, 0.07705999999999999, 0.07713333333333335, 0.07719, 0.07722333333333334, 0.077285, 0.07738666666666667, 0.0774, 0.07749166666666667, 0.07755, 0.07771333333333333, 0.07776, 0.07779, 0.07783333333333334, 0.07785, 0.07787666666666666, 0.077925, 0.07804, 0.078105, 0.07820333333333333, 0.07829666666666667, 0.07836666666666667, 0.07836666666666667, 0.07844999999999999, 0.07848, 0.07853, 0.07869333333333334, 0.07872, 0.07885666666666667, 0.0789, 0.07897499999999999, 0.07901999999999999, 0.07902, 0.0792, 0.07925, 0.07944833333333334, 0.0795, 0.07957333333333334, 0.07960666666666667, 0.07991999999999999, 0.07993499999999999, 0.07994166666666666, 0.08001, 0.080025, 0.0801, 0.08043, 0.08049333333333333, 0.08052999999999999, 0.08055, 0.08063333333333333, 0.08063999999999999, 0.08076, 0.08084999999999999, 0.08085, 0.081075, 0.08109, 0.08112, 0.08132500000000001, 0.08135999999999999, 0.08138, 0.08141999999999999, 0.0816, 0.08161166666666667, 0.08174999999999999, 0.081765, 0.08201666666666667, 0.08208, 0.08208, 0.082125, 0.08212666666666667, 0.08223, 0.08226666666666667, 0.08241, 0.08264999999999999, 0.08268, 0.08269333333333334, 0.08270833333333333, 0.08274, 0.0828, 0.08306999999999999, 0.08315333333333334, 0.083175, 0.08334, 0.0834, 0.0834, 0.08340333333333334, 0.08352, 0.083595, 0.0837, 0.08373, 0.08377500000000002, 0.08403999999999999, 0.08406, 0.08409166666666668, 0.084225, 0.08424, 0.08438999999999999, 0.08451, 0.08468000000000002, 0.08472, 0.08474999999999999, 0.08478333333333334, 0.08485666666666666, 0.08492666666666666, 0.08496, 0.08505, 0.08510000000000001, 0.085275, 0.08537999999999998, 0.085475, 0.08559666666666667, 0.08568, 0.08571, 0.0858, 0.08581333333333334, 0.08593833333333334, 0.08595666666666667, 0.08603999999999999, 0.08609333333333333, 0.08616666666666667, 0.086325, 0.08637, 0.08659, 0.0867, 0.08670000000000001, 0.08685, 0.08685833333333334, 0.08702000000000001, 0.08703, 0.08708666666666667, 0.08723333333333333, 0.08736, 0.08754999999999999, 0.08758333333333335, 0.08758666666666666, 0.08769, 0.08802, 0.08807999999999999, 0.08810166666666666, 0.08824166666666666, 0.08847333333333333, 0.08851, 0.08857666666666666, 0.08893333333333335, 0.08907333333333334, 0.08918333333333332, 0.08936000000000001, 0.08957, 0.08962500000000001, 0.08978666666666667, 0.09006666666666667, 0.09024666666666667, 0.09026500000000001, 0.09031666666666666, 0.09056333333333334, 0.09100833333333333, 0.09106, 0.09106333333333333, 0.09113333333333333, 0.09134666666666667, 0.09155666666666668, 0.09170000000000002, 0.09202, 0.09205333333333335, 0.09234, 0.09239166666666666, 0.09242833333333333, 0.09255000000000001, 0.09290666666666667, 0.09304666666666667, 0.09308333333333332, 0.09351000000000001, 0.09354333333333334, 0.09377500000000001, 0.09379333333333333, 0.09404000000000001, 0.09446666666666667, 0.09453666666666667, 0.09468000000000001, 0.09503333333333333, 0.09515833333333333, 0.09553, 0.09585, 0.09602666666666668, 0.09652333333333334, 0.09702000000000001]}],\n",
              "                        {\"coloraxis\": {\"colorbar\": {\"title\": {\"text\": \"debtshare\"}}, \"colorscale\": [[0.0, \"#0d0887\"], [0.1111111111111111, \"#46039f\"], [0.2222222222222222, \"#7201a8\"], [0.3333333333333333, \"#9c179e\"], [0.4444444444444444, \"#bd3786\"], [0.5555555555555556, \"#d8576b\"], [0.6666666666666666, \"#ed7953\"], [0.7777777777777778, \"#fb9f3a\"], [0.8888888888888888, \"#fdca26\"], [1.0, \"#f0f921\"]]}, \"legend\": {\"itemsizing\": \"constant\", \"tracegroupgap\": 0}, \"margin\": {\"b\": 0, \"l\": 0, \"r\": 0, \"t\": 0}, \"scene\": {\"domain\": {\"x\": [0.0, 1.0], \"y\": [0.0, 1.0]}, \"xaxis\": {\"title\": {\"text\": \"cod\"}}, \"yaxis\": {\"title\": {\"text\": \"coe\"}}, \"zaxis\": {\"title\": {\"text\": \"WACC\"}}}, \"template\": {\"data\": {\"bar\": [{\"error_x\": {\"color\": \"#2a3f5f\"}, \"error_y\": {\"color\": \"#2a3f5f\"}, \"marker\": {\"line\": {\"color\": \"#E5ECF6\", \"width\": 0.5}}, \"type\": \"bar\"}], \"barpolar\": [{\"marker\": {\"line\": {\"color\": \"#E5ECF6\", \"width\": 0.5}}, \"type\": \"barpolar\"}], \"carpet\": [{\"aaxis\": {\"endlinecolor\": \"#2a3f5f\", \"gridcolor\": \"white\", \"linecolor\": \"white\", \"minorgridcolor\": \"white\", \"startlinecolor\": \"#2a3f5f\"}, \"baxis\": {\"endlinecolor\": \"#2a3f5f\", \"gridcolor\": \"white\", \"linecolor\": \"white\", \"minorgridcolor\": \"white\", \"startlinecolor\": \"#2a3f5f\"}, \"type\": \"carpet\"}], \"choropleth\": [{\"colorbar\": {\"outlinewidth\": 0, \"ticks\": \"\"}, \"type\": \"choropleth\"}], \"contour\": [{\"colorbar\": {\"outlinewidth\": 0, \"ticks\": \"\"}, \"colorscale\": [[0.0, \"#0d0887\"], [0.1111111111111111, \"#46039f\"], [0.2222222222222222, \"#7201a8\"], [0.3333333333333333, \"#9c179e\"], [0.4444444444444444, \"#bd3786\"], [0.5555555555555556, \"#d8576b\"], [0.6666666666666666, \"#ed7953\"], [0.7777777777777778, \"#fb9f3a\"], [0.8888888888888888, \"#fdca26\"], [1.0, \"#f0f921\"]], \"type\": \"contour\"}], \"contourcarpet\": [{\"colorbar\": {\"outlinewidth\": 0, \"ticks\": \"\"}, \"type\": \"contourcarpet\"}], \"heatmap\": [{\"colorbar\": {\"outlinewidth\": 0, \"ticks\": \"\"}, \"colorscale\": [[0.0, \"#0d0887\"], [0.1111111111111111, \"#46039f\"], [0.2222222222222222, \"#7201a8\"], [0.3333333333333333, \"#9c179e\"], [0.4444444444444444, \"#bd3786\"], [0.5555555555555556, \"#d8576b\"], [0.6666666666666666, \"#ed7953\"], [0.7777777777777778, \"#fb9f3a\"], [0.8888888888888888, \"#fdca26\"], [1.0, \"#f0f921\"]], \"type\": \"heatmap\"}], \"heatmapgl\": [{\"colorbar\": {\"outlinewidth\": 0, \"ticks\": \"\"}, \"colorscale\": [[0.0, \"#0d0887\"], [0.1111111111111111, \"#46039f\"], [0.2222222222222222, \"#7201a8\"], [0.3333333333333333, \"#9c179e\"], [0.4444444444444444, \"#bd3786\"], [0.5555555555555556, \"#d8576b\"], [0.6666666666666666, \"#ed7953\"], [0.7777777777777778, \"#fb9f3a\"], [0.8888888888888888, \"#fdca26\"], [1.0, \"#f0f921\"]], \"type\": \"heatmapgl\"}], \"histogram\": [{\"marker\": {\"colorbar\": {\"outlinewidth\": 0, \"ticks\": \"\"}}, \"type\": \"histogram\"}], \"histogram2d\": [{\"colorbar\": {\"outlinewidth\": 0, \"ticks\": \"\"}, \"colorscale\": [[0.0, \"#0d0887\"], [0.1111111111111111, \"#46039f\"], [0.2222222222222222, \"#7201a8\"], [0.3333333333333333, \"#9c179e\"], [0.4444444444444444, \"#bd3786\"], [0.5555555555555556, \"#d8576b\"], [0.6666666666666666, \"#ed7953\"], [0.7777777777777778, \"#fb9f3a\"], [0.8888888888888888, \"#fdca26\"], [1.0, \"#f0f921\"]], \"type\": \"histogram2d\"}], \"histogram2dcontour\": [{\"colorbar\": {\"outlinewidth\": 0, \"ticks\": \"\"}, \"colorscale\": [[0.0, \"#0d0887\"], [0.1111111111111111, \"#46039f\"], [0.2222222222222222, \"#7201a8\"], [0.3333333333333333, \"#9c179e\"], [0.4444444444444444, \"#bd3786\"], [0.5555555555555556, \"#d8576b\"], [0.6666666666666666, \"#ed7953\"], [0.7777777777777778, \"#fb9f3a\"], [0.8888888888888888, \"#fdca26\"], [1.0, \"#f0f921\"]], \"type\": \"histogram2dcontour\"}], \"mesh3d\": [{\"colorbar\": {\"outlinewidth\": 0, \"ticks\": \"\"}, \"type\": \"mesh3d\"}], \"parcoords\": [{\"line\": {\"colorbar\": {\"outlinewidth\": 0, \"ticks\": \"\"}}, \"type\": \"parcoords\"}], \"pie\": [{\"automargin\": true, \"type\": \"pie\"}], \"scatter\": [{\"marker\": {\"colorbar\": {\"outlinewidth\": 0, \"ticks\": \"\"}}, \"type\": \"scatter\"}], \"scatter3d\": [{\"line\": {\"colorbar\": {\"outlinewidth\": 0, \"ticks\": \"\"}}, \"marker\": {\"colorbar\": {\"outlinewidth\": 0, \"ticks\": \"\"}}, \"type\": \"scatter3d\"}], \"scattercarpet\": [{\"marker\": {\"colorbar\": {\"outlinewidth\": 0, \"ticks\": \"\"}}, \"type\": \"scattercarpet\"}], \"scattergeo\": [{\"marker\": {\"colorbar\": {\"outlinewidth\": 0, \"ticks\": \"\"}}, \"type\": \"scattergeo\"}], \"scattergl\": [{\"marker\": {\"colorbar\": {\"outlinewidth\": 0, \"ticks\": \"\"}}, \"type\": \"scattergl\"}], \"scattermapbox\": [{\"marker\": {\"colorbar\": {\"outlinewidth\": 0, \"ticks\": \"\"}}, \"type\": \"scattermapbox\"}], \"scatterpolar\": [{\"marker\": {\"colorbar\": {\"outlinewidth\": 0, \"ticks\": \"\"}}, \"type\": \"scatterpolar\"}], \"scatterpolargl\": [{\"marker\": {\"colorbar\": {\"outlinewidth\": 0, \"ticks\": \"\"}}, \"type\": \"scatterpolargl\"}], \"scatterternary\": [{\"marker\": {\"colorbar\": {\"outlinewidth\": 0, \"ticks\": \"\"}}, \"type\": \"scatterternary\"}], \"surface\": [{\"colorbar\": {\"outlinewidth\": 0, \"ticks\": \"\"}, \"colorscale\": [[0.0, \"#0d0887\"], [0.1111111111111111, \"#46039f\"], [0.2222222222222222, \"#7201a8\"], [0.3333333333333333, \"#9c179e\"], [0.4444444444444444, \"#bd3786\"], [0.5555555555555556, \"#d8576b\"], [0.6666666666666666, \"#ed7953\"], [0.7777777777777778, \"#fb9f3a\"], [0.8888888888888888, \"#fdca26\"], [1.0, \"#f0f921\"]], \"type\": \"surface\"}], \"table\": [{\"cells\": {\"fill\": {\"color\": \"#EBF0F8\"}, \"line\": {\"color\": \"white\"}}, \"header\": {\"fill\": {\"color\": \"#C8D4E3\"}, \"line\": {\"color\": \"white\"}}, \"type\": \"table\"}]}, \"layout\": {\"annotationdefaults\": {\"arrowcolor\": \"#2a3f5f\", \"arrowhead\": 0, \"arrowwidth\": 1}, \"coloraxis\": {\"colorbar\": {\"outlinewidth\": 0, \"ticks\": \"\"}}, \"colorscale\": {\"diverging\": [[0, \"#8e0152\"], [0.1, \"#c51b7d\"], [0.2, \"#de77ae\"], [0.3, \"#f1b6da\"], [0.4, \"#fde0ef\"], [0.5, \"#f7f7f7\"], [0.6, \"#e6f5d0\"], [0.7, \"#b8e186\"], [0.8, \"#7fbc41\"], [0.9, \"#4d9221\"], [1, \"#276419\"]], \"sequential\": [[0.0, \"#0d0887\"], [0.1111111111111111, \"#46039f\"], [0.2222222222222222, \"#7201a8\"], [0.3333333333333333, \"#9c179e\"], [0.4444444444444444, \"#bd3786\"], [0.5555555555555556, \"#d8576b\"], [0.6666666666666666, \"#ed7953\"], [0.7777777777777778, \"#fb9f3a\"], [0.8888888888888888, \"#fdca26\"], [1.0, \"#f0f921\"]], \"sequentialminus\": [[0.0, \"#0d0887\"], [0.1111111111111111, \"#46039f\"], [0.2222222222222222, \"#7201a8\"], [0.3333333333333333, \"#9c179e\"], [0.4444444444444444, \"#bd3786\"], [0.5555555555555556, \"#d8576b\"], [0.6666666666666666, \"#ed7953\"], [0.7777777777777778, \"#fb9f3a\"], [0.8888888888888888, \"#fdca26\"], [1.0, \"#f0f921\"]]}, \"colorway\": [\"#636efa\", \"#EF553B\", \"#00cc96\", \"#ab63fa\", \"#FFA15A\", \"#19d3f3\", \"#FF6692\", \"#B6E880\", \"#FF97FF\", \"#FECB52\"], \"font\": {\"color\": \"#2a3f5f\"}, \"geo\": {\"bgcolor\": \"white\", \"lakecolor\": \"white\", \"landcolor\": \"#E5ECF6\", \"showlakes\": true, \"showland\": true, \"subunitcolor\": \"white\"}, \"hoverlabel\": {\"align\": \"left\"}, \"hovermode\": \"closest\", \"mapbox\": {\"style\": \"light\"}, \"paper_bgcolor\": \"white\", \"plot_bgcolor\": \"#E5ECF6\", \"polar\": {\"angularaxis\": {\"gridcolor\": \"white\", \"linecolor\": \"white\", \"ticks\": \"\"}, \"bgcolor\": \"#E5ECF6\", \"radialaxis\": {\"gridcolor\": \"white\", \"linecolor\": \"white\", \"ticks\": \"\"}}, \"scene\": {\"xaxis\": {\"backgroundcolor\": \"#E5ECF6\", \"gridcolor\": \"white\", \"gridwidth\": 2, \"linecolor\": \"white\", \"showbackground\": true, \"ticks\": \"\", \"zerolinecolor\": \"white\"}, \"yaxis\": {\"backgroundcolor\": \"#E5ECF6\", \"gridcolor\": \"white\", \"gridwidth\": 2, \"linecolor\": \"white\", \"showbackground\": true, \"ticks\": \"\", \"zerolinecolor\": \"white\"}, \"zaxis\": {\"backgroundcolor\": \"#E5ECF6\", \"gridcolor\": \"white\", \"gridwidth\": 2, \"linecolor\": \"white\", \"showbackground\": true, \"ticks\": \"\", \"zerolinecolor\": \"white\"}}, \"shapedefaults\": {\"line\": {\"color\": \"#2a3f5f\"}}, \"ternary\": {\"aaxis\": {\"gridcolor\": \"white\", \"linecolor\": \"white\", \"ticks\": \"\"}, \"baxis\": {\"gridcolor\": \"white\", \"linecolor\": \"white\", \"ticks\": \"\"}, \"bgcolor\": \"#E5ECF6\", \"caxis\": {\"gridcolor\": \"white\", \"linecolor\": \"white\", \"ticks\": \"\"}}, \"title\": {\"x\": 0.05}, \"xaxis\": {\"automargin\": true, \"gridcolor\": \"white\", \"linecolor\": \"white\", \"ticks\": \"\", \"title\": {\"standoff\": 15}, \"zerolinecolor\": \"white\", \"zerolinewidth\": 2}, \"yaxis\": {\"automargin\": true, \"gridcolor\": \"white\", \"linecolor\": \"white\", \"ticks\": \"\", \"title\": {\"standoff\": 15}, \"zerolinecolor\": \"white\", \"zerolinewidth\": 2}}}},\n",
              "                        {\"responsive\": true}\n",
              "                    ).then(function(){\n",
              "                            \n",
              "var gd = document.getElementById('11d4d9cd-a88e-44c1-86fa-a506b2c6e3d0');\n",
              "var x = new MutationObserver(function (mutations, observer) {{\n",
              "        var display = window.getComputedStyle(gd).display;\n",
              "        if (!display || display === 'none') {{\n",
              "            console.log([gd, 'removed!']);\n",
              "            Plotly.purge(gd);\n",
              "            observer.disconnect();\n",
              "        }}\n",
              "}});\n",
              "\n",
              "// Listen for the removal of the full notebook cells\n",
              "var notebookContainer = gd.closest('#notebook-container');\n",
              "if (notebookContainer) {{\n",
              "    x.observe(notebookContainer, {childList: true});\n",
              "}}\n",
              "\n",
              "// Listen for the clearing of the current output cell\n",
              "var outputEl = gd.closest('.output');\n",
              "if (outputEl) {{\n",
              "    x.observe(outputEl, {childList: true});\n",
              "}}\n",
              "\n",
              "                        })\n",
              "                };\n",
              "                \n",
              "            </script>\n",
              "        </div>\n",
              "</body>\n",
              "</html>"
            ]
          },
          "metadata": {
            "tags": []
          }
        }
      ]
    },
    {
      "cell_type": "markdown",
      "metadata": {
        "id": "soQlaLCzXN0k",
        "colab_type": "text"
      },
      "source": [
        "So what can we take away from this plot? Well, for one, as the debt share decreases, the WACC generally increases. We also see a gradual descent along the gradient to a minimum. This occurs where the costs of debt and equity are both minimized, which makes sesnse (After all, the WACC is just a weighted sum of these two values). None of this should be too surprising, but it's handy nonetheless.\n",
        "\n",
        "Now we can determine the Company's optimal capital structure by simply finding the minimum WACC and choosing accordingly.\n",
        "\n",
        "When I went through and spread the comps in Excel, I ended up only a few bps off of the calculated WACC, with a pretty close capital structure mix. Not too shabby for some simple (albeit educated) estimates!\n",
        "\n",
        "Now on to step 4!"
      ]
    },
    {
      "cell_type": "markdown",
      "metadata": {
        "id": "tXKTA_M4aJAE",
        "colab_type": "text"
      },
      "source": [
        "#Determine a Terminal Value\n",
        "So now we're approaching the goal of our exercise, finding a valuation. We have our cash flow projections and we have our discount rate, so now we just need a terminal value. The two most common methods of going about this are the perpetuity and exit multiple methods. Since this is a pretty simple DCF, assume and end-of-year convention. Let's start with the perpetuity method."
      ]
    },
    {
      "cell_type": "markdown",
      "metadata": {
        "id": "Fnf3gWKtb2ZK",
        "colab_type": "text"
      },
      "source": [
        "The general idea behind the perpetuity method is that you value your terminal year cash flows as you would a perpetuity. Again, as a refresher, here's the formula:\n",
        "\\begin{aligned}\n",
        "\tTerminal\\:Value_{pgm} =\n",
        "\t\\frac{FCF_n\\times(1+g)}{r-g}\n",
        "\\end{aligned}\n",
        "Where FCF is your terminal year cash flow, g is your perpetuity growth rate, and r is your WACC. The only variable we are missing here seems to be the growth rate, but it's pretty easy to estimate (usually a few bps over the GDP growth rate). Let's use a few more lines of code to calculate the Terminal Value for our range of WACCs:"
      ]
    },
    {
      "cell_type": "code",
      "metadata": {
        "id": "SLrPzWvldxId",
        "colab_type": "code",
        "outputId": "94eb7f46-757a-494f-925a-61b8d380f930",
        "colab": {
          "base_uri": "https://localhost:8080/",
          "height": 404
        }
      },
      "source": [
        "#Let's use our cash flow in year five as the terminal year (in millions)\n",
        "terminal_cash_flow = 553.8710782\n",
        "\n",
        "#Now define the perpetuity growth rate. The US government is projecting 3% growth, I tend to be more conservative though\n",
        "#especially in low rate environments such as the current one\n",
        "g = .025\n",
        "\n",
        "#And calculate using lambda syntax\n",
        "combos['TV_pgm'] = combos.apply(lambda row: ((terminal_cash_flow * (1+g))/(row.WACC-g)), axis = 1) \n",
        "\n",
        "#now lets get the terminal values in ascending order just for the consistency and limit to realistic WACC assumptions\n",
        "combos.sort_values(by = 'TV_pgm')\n",
        "combos = combos[(combos['WACC'] > .07)]\n",
        "combos"
      ],
      "execution_count": 22,
      "outputs": [
        {
          "output_type": "execute_result",
          "data": {
            "text/html": [
              "<div>\n",
              "<style scoped>\n",
              "    .dataframe tbody tr th:only-of-type {\n",
              "        vertical-align: middle;\n",
              "    }\n",
              "\n",
              "    .dataframe tbody tr th {\n",
              "        vertical-align: top;\n",
              "    }\n",
              "\n",
              "    .dataframe thead th {\n",
              "        text-align: right;\n",
              "    }\n",
              "</style>\n",
              "<table border=\"1\" class=\"dataframe\">\n",
              "  <thead>\n",
              "    <tr style=\"text-align: right;\">\n",
              "      <th></th>\n",
              "      <th>cod</th>\n",
              "      <th>coe</th>\n",
              "      <th>debtshare</th>\n",
              "      <th>WACC</th>\n",
              "      <th>TV_pgm</th>\n",
              "    </tr>\n",
              "  </thead>\n",
              "  <tbody>\n",
              "    <tr>\n",
              "      <th>50</th>\n",
              "      <td>0.02</td>\n",
              "      <td>0.08</td>\n",
              "      <td>0.100000</td>\n",
              "      <td>0.074340</td>\n",
              "      <td>11506.239464</td>\n",
              "    </tr>\n",
              "    <tr>\n",
              "      <th>51</th>\n",
              "      <td>0.02</td>\n",
              "      <td>0.08</td>\n",
              "      <td>0.116667</td>\n",
              "      <td>0.073397</td>\n",
              "      <td>11730.515638</td>\n",
              "    </tr>\n",
              "    <tr>\n",
              "      <th>52</th>\n",
              "      <td>0.02</td>\n",
              "      <td>0.08</td>\n",
              "      <td>0.133333</td>\n",
              "      <td>0.072453</td>\n",
              "      <td>11963.708664</td>\n",
              "    </tr>\n",
              "    <tr>\n",
              "      <th>53</th>\n",
              "      <td>0.02</td>\n",
              "      <td>0.08</td>\n",
              "      <td>0.150000</td>\n",
              "      <td>0.071510</td>\n",
              "      <td>12206.361108</td>\n",
              "    </tr>\n",
              "    <tr>\n",
              "      <th>54</th>\n",
              "      <td>0.02</td>\n",
              "      <td>0.08</td>\n",
              "      <td>0.166667</td>\n",
              "      <td>0.070567</td>\n",
              "      <td>12459.060464</td>\n",
              "    </tr>\n",
              "    <tr>\n",
              "      <th>...</th>\n",
              "      <td>...</td>\n",
              "      <td>...</td>\n",
              "      <td>...</td>\n",
              "      <td>...</td>\n",
              "      <td>...</td>\n",
              "    </tr>\n",
              "    <tr>\n",
              "      <th>620</th>\n",
              "      <td>0.06</td>\n",
              "      <td>0.10</td>\n",
              "      <td>0.433333</td>\n",
              "      <td>0.087087</td>\n",
              "      <td>9143.957723</td>\n",
              "    </tr>\n",
              "    <tr>\n",
              "      <th>621</th>\n",
              "      <td>0.06</td>\n",
              "      <td>0.10</td>\n",
              "      <td>0.450000</td>\n",
              "      <td>0.086590</td>\n",
              "      <td>9217.695326</td>\n",
              "    </tr>\n",
              "    <tr>\n",
              "      <th>622</th>\n",
              "      <td>0.06</td>\n",
              "      <td>0.10</td>\n",
              "      <td>0.466667</td>\n",
              "      <td>0.086093</td>\n",
              "      <td>9292.631850</td>\n",
              "    </tr>\n",
              "    <tr>\n",
              "      <th>623</th>\n",
              "      <td>0.06</td>\n",
              "      <td>0.10</td>\n",
              "      <td>0.483333</td>\n",
              "      <td>0.085597</td>\n",
              "      <td>9368.796774</td>\n",
              "    </tr>\n",
              "    <tr>\n",
              "      <th>624</th>\n",
              "      <td>0.06</td>\n",
              "      <td>0.10</td>\n",
              "      <td>0.500000</td>\n",
              "      <td>0.085100</td>\n",
              "      <td>9446.220552</td>\n",
              "    </tr>\n",
              "  </tbody>\n",
              "</table>\n",
              "<p>314 rows × 5 columns</p>\n",
              "</div>"
            ],
            "text/plain": [
              "      cod   coe  debtshare      WACC        TV_pgm\n",
              "50   0.02  0.08   0.100000  0.074340  11506.239464\n",
              "51   0.02  0.08   0.116667  0.073397  11730.515638\n",
              "52   0.02  0.08   0.133333  0.072453  11963.708664\n",
              "53   0.02  0.08   0.150000  0.071510  12206.361108\n",
              "54   0.02  0.08   0.166667  0.070567  12459.060464\n",
              "..    ...   ...        ...       ...           ...\n",
              "620  0.06  0.10   0.433333  0.087087   9143.957723\n",
              "621  0.06  0.10   0.450000  0.086590   9217.695326\n",
              "622  0.06  0.10   0.466667  0.086093   9292.631850\n",
              "623  0.06  0.10   0.483333  0.085597   9368.796774\n",
              "624  0.06  0.10   0.500000  0.085100   9446.220552\n",
              "\n",
              "[314 rows x 5 columns]"
            ]
          },
          "metadata": {
            "tags": []
          },
          "execution_count": 22
        }
      ]
    },
    {
      "cell_type": "markdown",
      "metadata": {
        "id": "OkiWGCIWdww2",
        "colab_type": "text"
      },
      "source": [
        "Now let's move on to the Exit Multiple Method. The general idea here is that there must be some multiple of your terminal cash flow (or some other metric; EBITDA is the industry standard)that produces a viable estimate of the terminal value. Here's the formula:\n",
        "\n",
        "\\begin{aligned}\n",
        "\tTerminal\\:Value_{emm} =\n",
        "\tFCF_n\\times Exit\\:Multiple\n",
        "\\end{aligned}\n",
        "\n",
        "Let's do some coding to come up with a range of terminal values based on a range of exit multiples. I find an industry average around 18x, so lets sensitize around that:"
      ]
    },
    {
      "cell_type": "code",
      "metadata": {
        "id": "vhz10ewNd43F",
        "colab_type": "code",
        "outputId": "dd5cafe2-e5d5-48fe-919f-e59d8ac34739",
        "colab": {
          "base_uri": "https://localhost:8080/",
          "height": 345
        }
      },
      "source": [
        "#Define a range of exit multiples (We will use the industry standard multiple for tech co's that I grabbed from CapIQ as a starting point)\n",
        "emm = pd.Series(np.linspace(16,20,10))\n",
        "\n",
        "#And calculate using TV using this method\n",
        "tv_emm = emm*terminal_cash_flow\n",
        "tv_emm_df = pd.DataFrame({'Exit Multiple':emm,\n",
        "    'Terminal Value':tv_emm.values})\n",
        "tv_emm_df"
      ],
      "execution_count": 23,
      "outputs": [
        {
          "output_type": "execute_result",
          "data": {
            "text/html": [
              "<div>\n",
              "<style scoped>\n",
              "    .dataframe tbody tr th:only-of-type {\n",
              "        vertical-align: middle;\n",
              "    }\n",
              "\n",
              "    .dataframe tbody tr th {\n",
              "        vertical-align: top;\n",
              "    }\n",
              "\n",
              "    .dataframe thead th {\n",
              "        text-align: right;\n",
              "    }\n",
              "</style>\n",
              "<table border=\"1\" class=\"dataframe\">\n",
              "  <thead>\n",
              "    <tr style=\"text-align: right;\">\n",
              "      <th></th>\n",
              "      <th>Exit Multiple</th>\n",
              "      <th>Terminal Value</th>\n",
              "    </tr>\n",
              "  </thead>\n",
              "  <tbody>\n",
              "    <tr>\n",
              "      <th>0</th>\n",
              "      <td>16.000000</td>\n",
              "      <td>8861.937251</td>\n",
              "    </tr>\n",
              "    <tr>\n",
              "      <th>1</th>\n",
              "      <td>16.444444</td>\n",
              "      <td>9108.102175</td>\n",
              "    </tr>\n",
              "    <tr>\n",
              "      <th>2</th>\n",
              "      <td>16.888889</td>\n",
              "      <td>9354.267098</td>\n",
              "    </tr>\n",
              "    <tr>\n",
              "      <th>3</th>\n",
              "      <td>17.333333</td>\n",
              "      <td>9600.432022</td>\n",
              "    </tr>\n",
              "    <tr>\n",
              "      <th>4</th>\n",
              "      <td>17.777778</td>\n",
              "      <td>9846.596946</td>\n",
              "    </tr>\n",
              "    <tr>\n",
              "      <th>5</th>\n",
              "      <td>18.222222</td>\n",
              "      <td>10092.761869</td>\n",
              "    </tr>\n",
              "    <tr>\n",
              "      <th>6</th>\n",
              "      <td>18.666667</td>\n",
              "      <td>10338.926793</td>\n",
              "    </tr>\n",
              "    <tr>\n",
              "      <th>7</th>\n",
              "      <td>19.111111</td>\n",
              "      <td>10585.091717</td>\n",
              "    </tr>\n",
              "    <tr>\n",
              "      <th>8</th>\n",
              "      <td>19.555556</td>\n",
              "      <td>10831.256640</td>\n",
              "    </tr>\n",
              "    <tr>\n",
              "      <th>9</th>\n",
              "      <td>20.000000</td>\n",
              "      <td>11077.421564</td>\n",
              "    </tr>\n",
              "  </tbody>\n",
              "</table>\n",
              "</div>"
            ],
            "text/plain": [
              "   Exit Multiple  Terminal Value\n",
              "0      16.000000     8861.937251\n",
              "1      16.444444     9108.102175\n",
              "2      16.888889     9354.267098\n",
              "3      17.333333     9600.432022\n",
              "4      17.777778     9846.596946\n",
              "5      18.222222    10092.761869\n",
              "6      18.666667    10338.926793\n",
              "7      19.111111    10585.091717\n",
              "8      19.555556    10831.256640\n",
              "9      20.000000    11077.421564"
            ]
          },
          "metadata": {
            "tags": []
          },
          "execution_count": 23
        }
      ]
    },
    {
      "cell_type": "markdown",
      "metadata": {
        "id": "_2-W5RnxhPms",
        "colab_type": "text"
      },
      "source": [
        "And would you look at that! Our exit multiple method produces terminal values that are pretty consistent with our perpetuity growth method around the realistic WACC assumptions. Let's do a little check just to make sure:"
      ]
    },
    {
      "cell_type": "code",
      "metadata": {
        "id": "es0QCVi1hVzb",
        "colab_type": "code",
        "outputId": "9ed98a7f-94c9-4d13-b64f-f96c8145465b",
        "colab": {
          "base_uri": "https://localhost:8080/",
          "height": 50
        }
      },
      "source": [
        "print(\"Exit multiple average: \",np.mean(tv_emm_df['Terminal Value']))\n",
        "print(\"Perpetuity Average:    \",np.mean(combos['TV_pgm']))"
      ],
      "execution_count": 24,
      "outputs": [
        {
          "output_type": "stream",
          "text": [
            "Exit multiple average:  9969.679407599999\n",
            "Perpetuity Average:     10491.971250682967\n"
          ],
          "name": "stdout"
        }
      ]
    },
    {
      "cell_type": "markdown",
      "metadata": {
        "id": "sZQy6sQJohzg",
        "colab_type": "text"
      },
      "source": [
        "Again, not bad for some quick and dirty estimates. Now, on to step 5."
      ]
    },
    {
      "cell_type": "markdown",
      "metadata": {
        "id": "ssLY4QubooV7",
        "colab_type": "text"
      },
      "source": [
        "#Calculate Present Value\n",
        "And now for the easiest part. Using the end year convention and exit multiple terminal value, our formula is as follows:\n",
        "\\begin{aligned}\n",
        "\tEnterprise\\:Value =\n",
        "\t\\sum_{i=1}^{n}\\frac{FCF_n}{(1+WACC)^n}+\n",
        "  \\frac{Terminal\\:Value\\times Exit\\:Multiple}{(1+WACC)^n}\n",
        "\\end{aligned}\n",
        "Where n is the year of the cash flow, starting where n=1 represents the nearest year's cash flow and f represents the final year in which you recieve your terminal value. We can easily calculate present value of a stream of cash flows in python using the following function:"
      ]
    },
    {
      "cell_type": "code",
      "metadata": {
        "id": "w21UGVAitY_A",
        "colab_type": "code",
        "outputId": "95fcaff2-a0c5-4054-d945-f2ad1cf284fd",
        "colab": {
          "base_uri": "https://localhost:8080/",
          "height": 33
        }
      },
      "source": [
        "\n",
        "#Let's make a list containing our cash flows (including terminal year x exit multiple)\n",
        "cash_flows = [91.9546, -58.2187, 54.2964, 190.3648, 9969.67]\n",
        "\n",
        "#Now a list of the corresponding discount factors for each year\n",
        "avg_wacc = np.mean(combos['WACC'])\n",
        "drates = [1/((1+avg_wacc)**i)for i in range(1,6)]\n",
        "\n",
        "#And now a formula to calculate\n",
        "def present_value(cash_flows, drates):\n",
        "  return sum([cash_flow*drate for cash_flow,drate in zip(cash_flows,drates)])\n",
        "\n",
        "print(\"The enterprise value of this company, according to the EMM method, in millions, is:\" ,\n",
        "      present_value(cash_flows,drates))\n",
        "\n",
        "\n",
        "\n"
      ],
      "execution_count": 25,
      "outputs": [
        {
          "output_type": "stream",
          "text": [
            "The enterprise value of this company, according to the EMM method, in millions, is: 7003.396608272314\n"
          ],
          "name": "stdout"
        }
      ]
    },
    {
      "cell_type": "markdown",
      "metadata": {
        "id": "qzJGNphWzwkF",
        "colab_type": "text"
      },
      "source": [
        "And there we have it. At our discount rate of 8%, this is a 7 billion dollar company, exactly what we get if we evaluate the NPV function in excel on our range of cash flows! If we wanted, we could do the same thing with our perpetuity method numbers, and we'd come up with a relatively similar number. Give it a shot!"
      ]
    },
    {
      "cell_type": "markdown",
      "metadata": {
        "id": "SEjHtmr90CVW",
        "colab_type": "text"
      },
      "source": [
        "#Conclusion\n",
        "So there we go, our pythonic valuation has come to an end. Hopefully at this point the advantages of using python to accompany valuations are strikingly evident. We saw how employing data science methods can help narrow down the optimal capital structure for a company, we saw the ways in which sensitivity analysis can be proxied in a Jupyter notebook, and we explored how basic 3D graphing can serve as a powerful tool for observing the mathematical relationships that underly some of the formulas central to finance. Perhaps most importantly, we saw how using python to re-evaluate your valuations can result in a much needed sanity check, thus improving the valuation's credibility. If you have any quetions or want to discuss, feel free to start a conversation with me on LinkedIn."
      ]
    }
  ]
}